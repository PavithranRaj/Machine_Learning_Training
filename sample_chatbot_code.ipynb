{
  "nbformat": 4,
  "nbformat_minor": 0,
  "metadata": {
    "kernelspec": {
      "display_name": "Python 3",
      "language": "python",
      "name": "python3"
    },
    "language_info": {
      "codemirror_mode": {
        "name": "ipython",
        "version": 3
      },
      "file_extension": ".py",
      "mimetype": "text/x-python",
      "name": "python",
      "nbconvert_exporter": "python",
      "pygments_lexer": "ipython3",
      "version": "3.7.4"
    },
    "colab": {
      "name": "sample_chatbot_code.ipynb",
      "provenance": [],
      "include_colab_link": true
    }
  },
  "cells": [
    {
      "cell_type": "markdown",
      "metadata": {
        "id": "view-in-github",
        "colab_type": "text"
      },
      "source": [
        "<a href=\"https://colab.research.google.com/github/anshupandey/Machine_Learning_Training/blob/master/sample_chatbot_code.ipynb\" target=\"_parent\"><img src=\"https://colab.research.google.com/assets/colab-badge.svg\" alt=\"Open In Colab\"/></a>"
      ]
    },
    {
      "cell_type": "code",
      "metadata": {
        "id": "ySLOZfBI_6tf",
        "colab_type": "code",
        "colab": {}
      },
      "source": [
        "from chatterbot import ChatBot,trainers"
      ],
      "execution_count": 0,
      "outputs": []
    },
    {
      "cell_type": "code",
      "metadata": {
        "collapsed": true,
        "id": "P3l0Zkcf_6tk",
        "colab_type": "code",
        "colab": {},
        "outputId": "53c65cab-3336-4c65-80d1-94aaafc76258"
      },
      "source": [
        "bot = ChatBot(\"helpbot\")\n",
        "trainer = trainers.ListTrainer(bot)"
      ],
      "execution_count": 0,
      "outputs": [
        {
          "output_type": "stream",
          "text": [
            "[nltk_data] Downloading package averaged_perceptron_tagger to\n",
            "[nltk_data]     C:\\Users\\anshu\\AppData\\Roaming\\nltk_data...\n",
            "[nltk_data]   Package averaged_perceptron_tagger is already up-to-\n",
            "[nltk_data]       date!\n",
            "[nltk_data] Downloading package stopwords to\n",
            "[nltk_data]     C:\\Users\\anshu\\AppData\\Roaming\\nltk_data...\n",
            "[nltk_data]   Package stopwords is already up-to-date!\n"
          ],
          "name": "stderr"
        }
      ]
    },
    {
      "cell_type": "code",
      "metadata": {
        "id": "eq8uE9S8_6to",
        "colab_type": "code",
        "colab": {}
      },
      "source": [
        "import os\n",
        "path = \"data\"\n",
        "files = os.listdir(path)"
      ],
      "execution_count": 0,
      "outputs": []
    },
    {
      "cell_type": "code",
      "metadata": {
        "id": "cmd5Zcwz_6tr",
        "colab_type": "code",
        "colab": {},
        "outputId": "35c11f45-43a9-4717-ad00-c4e670245b19"
      },
      "source": [
        "for file in files:\n",
        "    data = open(path + \"\\\\\" + file).readlines()\n",
        "    trainer.train(data)"
      ],
      "execution_count": 0,
      "outputs": [
        {
          "output_type": "stream",
          "text": [
            "List Trainer: [####################] 100%\n"
          ],
          "name": "stdout"
        }
      ]
    },
    {
      "cell_type": "code",
      "metadata": {
        "id": "JzjTY41__6tt",
        "colab_type": "code",
        "colab": {},
        "outputId": "31b520bf-6942-4f12-9631-cdf122b1be34"
      },
      "source": [
        "print(\"\"\"Bot: Hello I am here to help you,\n",
        "                 you can ask me questions like\n",
        "                 'which training programs are coming up?'\n",
        "                 for any other details you can say others.\n",
        "                 To quit converstation say 'quit'\"\"\")\n",
        "while True:\n",
        "    qus = input(\"You: \")\n",
        "    if qus ==\"quit\":\n",
        "        print(\"thanks for connecting, nice to talk to you\")\n",
        "        break\n",
        "    ans = bot.get_response(qus)\n",
        "    print(\"Bot: \",ans)\n",
        "        "
      ],
      "execution_count": 0,
      "outputs": [
        {
          "output_type": "stream",
          "text": [
            "Bot: Hello I am here to help you,\n",
            "                 you can ask me questions like\n",
            "                 'which training programs are coming up?'\n",
            "                 for any other details you can say others.\n",
            "                 To quit converstation say 'quit'\n",
            "You: upcoming training programs next month?\n",
            "Bot:  please find the details for training programs for next month. here\n",
            "You: upcoming\n",
            "Bot:  what are future training programs?\n",
            "You: others\n",
            "Bot:  please call us at +97155854645\n",
            "You: quit\n",
            "thanks for connecting, nice to talk to you\n"
          ],
          "name": "stdout"
        }
      ]
    },
    {
      "cell_type": "code",
      "metadata": {
        "id": "Cj4eDnVC_6tx",
        "colab_type": "code",
        "colab": {}
      },
      "source": [
        ""
      ],
      "execution_count": 0,
      "outputs": []
    }
  ]
}