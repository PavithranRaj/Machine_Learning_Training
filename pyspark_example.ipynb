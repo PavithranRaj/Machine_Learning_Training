{
  "nbformat": 4,
  "nbformat_minor": 0,
  "metadata": {
    "colab": {
      "name": "Lab_environment.ipynb",
      "version": "0.3.2",
      "provenance": [],
      "collapsed_sections": [],
      "include_colab_link": true
    },
    "language_info": {
      "codemirror_mode": {
        "name": "ipython",
        "version": 3
      },
      "file_extension": ".py",
      "mimetype": "text/x-python",
      "name": "python",
      "nbconvert_exporter": "python",
      "pygments_lexer": "ipython3",
      "version": "3.6.5"
    },
    "kernelspec": {
      "display_name": "Python 3",
      "language": "python",
      "name": "python3"
    }
  },
  "cells": [
    {
      "cell_type": "markdown",
      "metadata": {
        "id": "view-in-github",
        "colab_type": "text"
      },
      "source": [
        "<a href=\"https://colab.research.google.com/github/anshupandey/Machine_Learning_Training/blob/master/pyspark_example.ipynb\" target=\"_parent\"><img src=\"https://colab.research.google.com/assets/colab-badge.svg\" alt=\"Open In Colab\"/></a>"
      ]
    },
    {
      "metadata": {
        "colab_type": "text",
        "id": "qJoeN3e8_Gzk"
      },
      "cell_type": "markdown",
      "source": [
        "# Chicago Crime Data Investigation using PySpark"
      ]
    },
    {
      "metadata": {
        "colab_type": "text",
        "id": "Dd6t0uFzuR4X"
      },
      "cell_type": "markdown",
      "source": [
        "## Install Spark"
      ]
    },
    {
      "metadata": {
        "colab_type": "code",
        "id": "tt7ZS1_wGgjn",
        "outputId": "8d5ebd3e-022e-423e-896a-1713e3785ea9",
        "colab": {
          "base_uri": "https://localhost:8080/",
          "height": 277
        }
      },
      "cell_type": "code",
      "source": [
        "!apt-get update\n",
        "!apt-get install openjdk-8-jdk-headless -qq > /dev/null\n",
        "!wget -q http://archive.apache.org/dist/spark/spark-2.3.1/spark-2.3.1-bin-hadoop2.7.tgz\n",
        "!tar xf spark-2.3.1-bin-hadoop2.7.tgz\n",
        "!pip install -q findspark"
      ],
      "execution_count": 34,
      "outputs": [
        {
          "output_type": "stream",
          "text": [
            "\r0% [Working]\r            \rIgn:1 https://developer.download.nvidia.com/compute/cuda/repos/ubuntu1804/x86_64  InRelease\n",
            "\r0% [Connecting to archive.ubuntu.com] [Connecting to security.ubuntu.com (91.18\r                                                                               \rIgn:2 https://developer.download.nvidia.com/compute/machine-learning/repos/ubuntu1804/x86_64  InRelease\n",
            "\r0% [Connecting to archive.ubuntu.com (91.189.88.149)] [Connecting to security.u\r                                                                               \rHit:3 https://developer.download.nvidia.com/compute/cuda/repos/ubuntu1804/x86_64  Release\n",
            "\r0% [Connecting to archive.ubuntu.com (91.189.88.149)] [Connecting to security.u\r0% [Release.gpg gpgv 564 B] [Connecting to archive.ubuntu.com (91.189.88.149)] \r                                                                               \rHit:4 https://cloud.r-project.org/bin/linux/ubuntu bionic-cran35/ InRelease\n",
            "\r0% [Release.gpg gpgv 564 B] [Connecting to archive.ubuntu.com (91.189.88.149)] \r                                                                               \rHit:5 https://developer.download.nvidia.com/compute/machine-learning/repos/ubuntu1804/x86_64  Release\n",
            "\r0% [Release.gpg gpgv 564 B] [Connecting to archive.ubuntu.com (91.189.88.149)] \r                                                                               \rHit:6 http://ppa.launchpad.net/graphics-drivers/ppa/ubuntu bionic InRelease\n",
            "\r0% [Release.gpg gpgv 564 B] [Waiting for headers] [Waiting for headers] [Connec\r0% [Waiting for headers] [Waiting for headers] [Connecting to ppa.launchpad.net\r0% [4 InRelease gpgv 3,609 B] [Waiting for headers] [Waiting for headers] [Conn\r                                                                               \rHit:8 http://ppa.launchpad.net/marutter/c2d4u3.5/ubuntu bionic InRelease\n",
            "\r                                                                               \r0% [4 InRelease gpgv 3,609 B] [Waiting for headers] [Waiting for headers]\r                                                                         \rGet:9 http://security.ubuntu.com/ubuntu bionic-security InRelease [88.7 kB]\n",
            "Hit:10 http://archive.ubuntu.com/ubuntu bionic InRelease\n",
            "Get:11 http://archive.ubuntu.com/ubuntu bionic-updates InRelease [88.7 kB]\n",
            "Get:13 http://archive.ubuntu.com/ubuntu bionic-backports InRelease [74.6 kB]\n",
            "Get:14 http://archive.ubuntu.com/ubuntu bionic-updates/main amd64 Packages [776 kB]\n",
            "Get:15 http://archive.ubuntu.com/ubuntu bionic-updates/universe amd64 Packages [1,191 kB]\n",
            "Fetched 2,219 kB in 3s (694 kB/s)\n",
            "Reading package lists... Done\n"
          ],
          "name": "stdout"
        }
      ]
    },
    {
      "metadata": {
        "colab_type": "code",
        "id": "sdOOq4twHN1K",
        "colab": {}
      },
      "cell_type": "code",
      "source": [
        "# Seetting up the paths\n",
        "import os\n",
        "os.environ[\"JAVA_HOME\"] = \"/usr/lib/jvm/java-8-openjdk-amd64\"\n",
        "os.environ[\"SPARK_HOME\"] = \"/content/spark-2.3.1-bin-hadoop2.7\""
      ],
      "execution_count": 0,
      "outputs": []
    },
    {
      "metadata": {
        "colab_type": "code",
        "id": "3ACYMwhgHTYz",
        "outputId": "ce7c17a8-0611-48bb-e4bf-97196f4f9fda",
        "colab": {
          "base_uri": "https://localhost:8080/",
          "height": 87
        }
      },
      "cell_type": "code",
      "source": [
        "# check the list of files and folders in the current dorectory\n",
        "!ls"
      ],
      "execution_count": 36,
      "outputs": [
        {
          "output_type": "stream",
          "text": [
            "international-airline-passengers.csv  spark-2.3.1-bin-hadoop2.7.tgz\n",
            "reported-crimes.csv\t\t      spark-2.3.1-bin-hadoop2.7.tgz.1\n",
            "sample_data\t\t\t      spark-warehouse\n",
            "spark-2.3.1-bin-hadoop2.7\n"
          ],
          "name": "stdout"
        }
      ]
    },
    {
      "metadata": {
        "colab_type": "code",
        "id": "wjfF7LLgHZe3",
        "outputId": "19fb32e8-a0c9-49ce-eb3b-024a38f9ecdc",
        "colab": {
          "base_uri": "https://localhost:8080/",
          "height": 196
        }
      },
      "cell_type": "code",
      "source": [
        "# import findspark and checking out how to create a spark session\n",
        "import findspark\n",
        "findspark.init()\n",
        "from pyspark import SparkContext\n",
        "\n",
        "sc = SparkContext.getOrCreate()\n",
        "sc"
      ],
      "execution_count": 37,
      "outputs": [
        {
          "output_type": "execute_result",
          "data": {
            "text/html": [
              "\n",
              "        <div>\n",
              "            <p><b>SparkContext</b></p>\n",
              "\n",
              "            <p><a href=\"http://9d7a0585f09b:4040\">Spark UI</a></p>\n",
              "\n",
              "            <dl>\n",
              "              <dt>Version</dt>\n",
              "                <dd><code>v2.3.1</code></dd>\n",
              "              <dt>Master</dt>\n",
              "                <dd><code>local[*]</code></dd>\n",
              "              <dt>AppName</dt>\n",
              "                <dd><code>pyspark-shell</code></dd>\n",
              "            </dl>\n",
              "        </div>\n",
              "        "
            ],
            "text/plain": [
              "<SparkContext master=local[*] appName=pyspark-shell>"
            ]
          },
          "metadata": {
            "tags": []
          },
          "execution_count": 37
        }
      ]
    },
    {
      "metadata": {
        "colab_type": "code",
        "id": "Gs7fzvxcHfvw",
        "outputId": "37a0a1c4-8447-4102-f91f-6e00fb81fdc4",
        "colab": {
          "base_uri": "https://localhost:8080/",
          "height": 219
        }
      },
      "cell_type": "code",
      "source": [
        "import pyspark\n",
        "from pyspark.sql import SparkSession\n",
        "spark = SparkSession.builder.getOrCreate() \n",
        "spark"
      ],
      "execution_count": 38,
      "outputs": [
        {
          "output_type": "execute_result",
          "data": {
            "text/html": [
              "\n",
              "            <div>\n",
              "                <p><b>SparkSession - in-memory</b></p>\n",
              "                \n",
              "        <div>\n",
              "            <p><b>SparkContext</b></p>\n",
              "\n",
              "            <p><a href=\"http://9d7a0585f09b:4040\">Spark UI</a></p>\n",
              "\n",
              "            <dl>\n",
              "              <dt>Version</dt>\n",
              "                <dd><code>v2.3.1</code></dd>\n",
              "              <dt>Master</dt>\n",
              "                <dd><code>local[*]</code></dd>\n",
              "              <dt>AppName</dt>\n",
              "                <dd><code>pyspark-shell</code></dd>\n",
              "            </dl>\n",
              "        </div>\n",
              "        \n",
              "            </div>\n",
              "        "
            ],
            "text/plain": [
              "<pyspark.sql.session.SparkSession at 0x7ff63b5eafd0>"
            ]
          },
          "metadata": {
            "tags": []
          },
          "execution_count": 38
        }
      ]
    },
    {
      "metadata": {
        "id": "gZV3c8mF4MaA",
        "colab_type": "text"
      },
      "cell_type": "markdown",
      "source": [
        "## Downloading and preprocessing Chicago's Reported Crime Data"
      ]
    },
    {
      "metadata": {
        "colab_type": "code",
        "id": "We2yp-o7Hgu9",
        "colab": {}
      },
      "cell_type": "code",
      "source": [
        ""
      ],
      "execution_count": 0,
      "outputs": []
    },
    {
      "metadata": {
        "colab_type": "code",
        "id": "QdrFO3yrwptm",
        "colab": {}
      },
      "cell_type": "code",
      "source": [
        "# check all the files in the directory\n"
      ],
      "execution_count": 0,
      "outputs": []
    },
    {
      "metadata": {
        "id": "BIXepui355t2",
        "colab_type": "code",
        "colab": {}
      },
      "cell_type": "code",
      "source": [
        "# rename the file to something simple\n",
        "!mv rows.csv\\?accessType\\=DOWNLOAD reported-crimes.csv"
      ],
      "execution_count": 0,
      "outputs": []
    },
    {
      "metadata": {
        "id": "XvEC3Awl6Iur",
        "colab_type": "code",
        "colab": {}
      },
      "cell_type": "code",
      "source": [
        "# check all the files in the directory\n"
      ],
      "execution_count": 0,
      "outputs": []
    },
    {
      "metadata": {
        "id": "DItM9k7P6JqG",
        "colab_type": "code",
        "colab": {}
      },
      "cell_type": "code",
      "source": [
        "# loading data as a dataframe\n",
        "from pyspark.sql.functions import to_timestamp,col,lit\n",
        "rc = spark.read.csv('reported-crimes.csv',header=True).withColumn('Date',to_timestamp(col('Date'),'MM/dd/yyyy hh:mm:ss a')).filter(col('Date') <= lit('2019-04-01'))"
      ],
      "execution_count": 0,
      "outputs": []
    },
    {
      "metadata": {
        "id": "qiRDanNv9Q-O",
        "colab_type": "code",
        "colab": {
          "base_uri": "https://localhost:8080/",
          "height": 228
        },
        "outputId": "f399b956-0656-46b5-df70-1f6a233a79cf"
      },
      "cell_type": "code",
      "source": [
        "# lets check the top five rows\n",
        "rc.show(5)"
      ],
      "execution_count": 44,
      "outputs": [
        {
          "output_type": "stream",
          "text": [
            "+--------+-----------+-------------------+--------------------+----+---------------+--------------------+--------------------+------+--------+----+--------+----+--------------+--------+------------+------------+----+--------------------+------------+-------------+--------------------+--------------------------+---------+---------------+-------------+-----+----------------------+----------------+------------+\n",
            "|      ID|Case Number|               Date|               Block|IUCR|   Primary Type|         Description|Location Description|Arrest|Domestic|Beat|District|Ward|Community Area|FBI Code|X Coordinate|Y Coordinate|Year|          Updated On|    Latitude|    Longitude|            Location|Historical Wards 2003-2015|Zip Codes|Community Areas|Census Tracts|Wards|Boundaries - ZIP Codes|Police Districts|Police Beats|\n",
            "+--------+-----------+-------------------+--------------------+----+---------------+--------------------+--------------------+------+--------+----+--------+----+--------------+--------+------------+------------+----+--------------------+------------+-------------+--------------------+--------------------------+---------+---------------+-------------+-----+----------------------+----------------+------------+\n",
            "|11640869|   JC207122|2019-03-31 23:51:00|    058XX W HURON ST|0486|        BATTERY|DOMESTIC BATTERY ...|           RESIDENCE| false|    true|1511|     015|  29|            25|     08B|     1137432|     1904052|2019|04/07/2019 04:05:...|41.892864608|-87.770719974|(41.892864608, -8...|                        52|    22216|             26|          672|    7|                    32|              25|          70|\n",
            "|11640912|   JC207126|2019-03-31 23:50:00|     016XX W 44TH ST|0496|        BATTERY|AGGRAVATED DOMEST...|           APARTMENT|  true|    true|0924|     009|  15|            61|     04B|     1165945|     1875532|2019|04/07/2019 04:05:...|41.814042305|-87.666815552|(41.814042305, -8...|                        29|    14924|             59|          706|    3|                    37|              23|         108|\n",
            "|11640852|   JC207120|2019-03-31 23:47:00|087XX S EXCHANGE AVE|0486|        BATTERY|DOMESTIC BATTERY ...|           RESIDENCE| false|    true|0423|     004|  10|            46|     08B|     1197282|     1847598|2019|04/07/2019 04:05:...|41.736665235|-87.552800507|(41.736665235, -8...|                        47|    21202|             42|          509|   47|                    25|              19|         238|\n",
            "|11640896|   JC207203|2019-03-31 23:45:00|  091XX S HALSTED ST|1310|CRIMINAL DAMAGE|         TO PROPERTY|           RESIDENCE| false|   false|2223|     022|  21|            73|      14|     1172579|     1844322|2019|04/07/2019 04:05:...|41.728254593|-87.643399865|(41.728254593, -8...|                        18|    21554|             72|          151|   13|                    59|               9|         243|\n",
            "|11640816|   JC207116|2019-03-31 23:40:00|008XX W SUNNYSIDE...|0486|        BATTERY|DOMESTIC BATTERY ...|           APARTMENT| false|    true|1914|     019|  46|             3|     08B|     1169808|     1930084|2019|04/07/2019 04:05:...|41.963653562|-87.651054693|(41.963653562, -8...|                        37|    22616|             31|           20|   39|                    15|               5|           4|\n",
            "+--------+-----------+-------------------+--------------------+----+---------------+--------------------+--------------------+------+--------+----+--------+----+--------------+--------+------------+------------+----+--------------------+------------+-------------+--------------------+--------------------------+---------+---------------+-------------+-----+----------------------+----------------+------------+\n",
            "only showing top 5 rows\n",
            "\n"
          ],
          "name": "stdout"
        }
      ]
    },
    {
      "metadata": {
        "id": "5PeEgYvp6xyw",
        "colab_type": "text"
      },
      "cell_type": "markdown",
      "source": [
        "## Working with columns"
      ]
    },
    {
      "metadata": {
        "id": "Yb6kU5Be66eS",
        "colab_type": "text"
      },
      "cell_type": "markdown",
      "source": [
        "**Display only the first 5 rows of the column name IUCR **"
      ]
    },
    {
      "metadata": {
        "id": "hnB1BC0M61sV",
        "colab_type": "code",
        "colab": {
          "base_uri": "https://localhost:8080/",
          "height": 208
        },
        "outputId": "58b7e75f-9ae2-4ca8-cdc0-ba62b5c38e8c"
      },
      "cell_type": "code",
      "source": [
        ""
      ],
      "execution_count": 72,
      "outputs": [
        {
          "output_type": "stream",
          "text": [
            "+----+\n",
            "|IUCR|\n",
            "+----+\n",
            "|0486|\n",
            "|0496|\n",
            "|0486|\n",
            "|1310|\n",
            "|0486|\n",
            "+----+\n",
            "only showing top 5 rows\n",
            "\n"
          ],
          "name": "stdout"
        }
      ]
    },
    {
      "metadata": {
        "id": "vbfpCxK47Acy",
        "colab_type": "code",
        "colab": {
          "base_uri": "https://localhost:8080/",
          "height": 208
        },
        "outputId": "eaf7f666-b584-4905-cc00-a71097bc996e"
      },
      "cell_type": "code",
      "source": [
        ""
      ],
      "execution_count": 46,
      "outputs": [
        {
          "output_type": "stream",
          "text": [
            "+----+\n",
            "|IUCR|\n",
            "+----+\n",
            "|0486|\n",
            "|0496|\n",
            "|0486|\n",
            "|1310|\n",
            "|0486|\n",
            "+----+\n",
            "only showing top 5 rows\n",
            "\n"
          ],
          "name": "stdout"
        }
      ]
    },
    {
      "metadata": {
        "id": "63J8kGFw7BB9",
        "colab_type": "text"
      },
      "cell_type": "markdown",
      "source": [
        "  **Display only the first 4 rows of the column names Case Number, Date and Arrest**"
      ]
    },
    {
      "metadata": {
        "id": "VxvArTuT7BxX",
        "colab_type": "code",
        "colab": {
          "base_uri": "https://localhost:8080/",
          "height": 208
        },
        "outputId": "2d705378-3a94-4442-80eb-06379ca116ea"
      },
      "cell_type": "code",
      "source": [
        ""
      ],
      "execution_count": 47,
      "outputs": [
        {
          "output_type": "stream",
          "text": [
            "+-----------+-------------------+------+\n",
            "|Case Number|               Date|Arrest|\n",
            "+-----------+-------------------+------+\n",
            "|   JC207122|2019-03-31 23:51:00| false|\n",
            "|   JC207126|2019-03-31 23:50:00|  true|\n",
            "|   JC207120|2019-03-31 23:47:00| false|\n",
            "|   JC207203|2019-03-31 23:45:00| false|\n",
            "|   JC207116|2019-03-31 23:40:00| false|\n",
            "+-----------+-------------------+------+\n",
            "only showing top 5 rows\n",
            "\n"
          ],
          "name": "stdout"
        }
      ]
    },
    {
      "metadata": {
        "id": "Af2-F10x7CgW",
        "colab_type": "code",
        "colab": {
          "base_uri": "https://localhost:8080/",
          "height": 208
        },
        "outputId": "3fb8944e-8340-46ed-9c20-79f67f9e898e"
      },
      "cell_type": "code",
      "source": [
        ""
      ],
      "execution_count": 48,
      "outputs": [
        {
          "output_type": "stream",
          "text": [
            "+-----------+-------------------+------+\n",
            "|Case Number|               Date|Arrest|\n",
            "+-----------+-------------------+------+\n",
            "|   JC207122|2019-03-31 23:51:00| false|\n",
            "|   JC207126|2019-03-31 23:50:00|  true|\n",
            "|   JC207120|2019-03-31 23:47:00| false|\n",
            "|   JC207203|2019-03-31 23:45:00| false|\n",
            "|   JC207116|2019-03-31 23:40:00| false|\n",
            "+-----------+-------------------+------+\n",
            "only showing top 5 rows\n",
            "\n"
          ],
          "name": "stdout"
        }
      ]
    },
    {
      "metadata": {
        "id": "S-wQQZAv7GZA",
        "colab_type": "text"
      },
      "cell_type": "markdown",
      "source": [
        "** Add a column with name One, with entries all 1s **"
      ]
    },
    {
      "metadata": {
        "id": "9u-M57iy7G87",
        "colab_type": "code",
        "colab": {
          "base_uri": "https://localhost:8080/",
          "height": 228
        },
        "outputId": "ff73ce61-6058-47d6-f513-827aab85cec2"
      },
      "cell_type": "code",
      "source": [
        "from pyspark.sql.functions import lit\n",
        "rc.withColumn('One',lit(1)).show(5)"
      ],
      "execution_count": 49,
      "outputs": [
        {
          "output_type": "stream",
          "text": [
            "+--------+-----------+-------------------+--------------------+----+---------------+--------------------+--------------------+------+--------+----+--------+----+--------------+--------+------------+------------+----+--------------------+------------+-------------+--------------------+--------------------------+---------+---------------+-------------+-----+----------------------+----------------+------------+---+\n",
            "|      ID|Case Number|               Date|               Block|IUCR|   Primary Type|         Description|Location Description|Arrest|Domestic|Beat|District|Ward|Community Area|FBI Code|X Coordinate|Y Coordinate|Year|          Updated On|    Latitude|    Longitude|            Location|Historical Wards 2003-2015|Zip Codes|Community Areas|Census Tracts|Wards|Boundaries - ZIP Codes|Police Districts|Police Beats|One|\n",
            "+--------+-----------+-------------------+--------------------+----+---------------+--------------------+--------------------+------+--------+----+--------+----+--------------+--------+------------+------------+----+--------------------+------------+-------------+--------------------+--------------------------+---------+---------------+-------------+-----+----------------------+----------------+------------+---+\n",
            "|11640869|   JC207122|2019-03-31 23:51:00|    058XX W HURON ST|0486|        BATTERY|DOMESTIC BATTERY ...|           RESIDENCE| false|    true|1511|     015|  29|            25|     08B|     1137432|     1904052|2019|04/07/2019 04:05:...|41.892864608|-87.770719974|(41.892864608, -8...|                        52|    22216|             26|          672|    7|                    32|              25|          70|  1|\n",
            "|11640912|   JC207126|2019-03-31 23:50:00|     016XX W 44TH ST|0496|        BATTERY|AGGRAVATED DOMEST...|           APARTMENT|  true|    true|0924|     009|  15|            61|     04B|     1165945|     1875532|2019|04/07/2019 04:05:...|41.814042305|-87.666815552|(41.814042305, -8...|                        29|    14924|             59|          706|    3|                    37|              23|         108|  1|\n",
            "|11640852|   JC207120|2019-03-31 23:47:00|087XX S EXCHANGE AVE|0486|        BATTERY|DOMESTIC BATTERY ...|           RESIDENCE| false|    true|0423|     004|  10|            46|     08B|     1197282|     1847598|2019|04/07/2019 04:05:...|41.736665235|-87.552800507|(41.736665235, -8...|                        47|    21202|             42|          509|   47|                    25|              19|         238|  1|\n",
            "|11640896|   JC207203|2019-03-31 23:45:00|  091XX S HALSTED ST|1310|CRIMINAL DAMAGE|         TO PROPERTY|           RESIDENCE| false|   false|2223|     022|  21|            73|      14|     1172579|     1844322|2019|04/07/2019 04:05:...|41.728254593|-87.643399865|(41.728254593, -8...|                        18|    21554|             72|          151|   13|                    59|               9|         243|  1|\n",
            "|11640816|   JC207116|2019-03-31 23:40:00|008XX W SUNNYSIDE...|0486|        BATTERY|DOMESTIC BATTERY ...|           APARTMENT| false|    true|1914|     019|  46|             3|     08B|     1169808|     1930084|2019|04/07/2019 04:05:...|41.963653562|-87.651054693|(41.963653562, -8...|                        37|    22616|             31|           20|   39|                    15|               5|           4|  1|\n",
            "+--------+-----------+-------------------+--------------------+----+---------------+--------------------+--------------------+------+--------+----+--------+----+--------------+--------+------------+------------+----+--------------------+------------+-------------+--------------------+--------------------------+---------+---------------+-------------+-----+----------------------+----------------+------------+---+\n",
            "only showing top 5 rows\n",
            "\n"
          ],
          "name": "stdout"
        }
      ]
    },
    {
      "metadata": {
        "id": "Izm0B7p67igh",
        "colab_type": "text"
      },
      "cell_type": "markdown",
      "source": [
        "** Remove the column IUCR **"
      ]
    },
    {
      "metadata": {
        "id": "WPCBB0PL7jI_",
        "colab_type": "code",
        "colab": {
          "base_uri": "https://localhost:8080/",
          "height": 228
        },
        "outputId": "bee1a773-150d-40f0-ed6c-facecf9acf72"
      },
      "cell_type": "code",
      "source": [
        ""
      ],
      "execution_count": 50,
      "outputs": [
        {
          "output_type": "stream",
          "text": [
            "+--------+-----------+-------------------+--------------------+---------------+--------------------+--------------------+------+--------+----+--------+----+--------------+--------+------------+------------+----+--------------------+------------+-------------+--------------------+--------------------------+---------+---------------+-------------+-----+----------------------+----------------+------------+\n",
            "|      ID|Case Number|               Date|               Block|   Primary Type|         Description|Location Description|Arrest|Domestic|Beat|District|Ward|Community Area|FBI Code|X Coordinate|Y Coordinate|Year|          Updated On|    Latitude|    Longitude|            Location|Historical Wards 2003-2015|Zip Codes|Community Areas|Census Tracts|Wards|Boundaries - ZIP Codes|Police Districts|Police Beats|\n",
            "+--------+-----------+-------------------+--------------------+---------------+--------------------+--------------------+------+--------+----+--------+----+--------------+--------+------------+------------+----+--------------------+------------+-------------+--------------------+--------------------------+---------+---------------+-------------+-----+----------------------+----------------+------------+\n",
            "|11640869|   JC207122|2019-03-31 23:51:00|    058XX W HURON ST|        BATTERY|DOMESTIC BATTERY ...|           RESIDENCE| false|    true|1511|     015|  29|            25|     08B|     1137432|     1904052|2019|04/07/2019 04:05:...|41.892864608|-87.770719974|(41.892864608, -8...|                        52|    22216|             26|          672|    7|                    32|              25|          70|\n",
            "|11640912|   JC207126|2019-03-31 23:50:00|     016XX W 44TH ST|        BATTERY|AGGRAVATED DOMEST...|           APARTMENT|  true|    true|0924|     009|  15|            61|     04B|     1165945|     1875532|2019|04/07/2019 04:05:...|41.814042305|-87.666815552|(41.814042305, -8...|                        29|    14924|             59|          706|    3|                    37|              23|         108|\n",
            "|11640852|   JC207120|2019-03-31 23:47:00|087XX S EXCHANGE AVE|        BATTERY|DOMESTIC BATTERY ...|           RESIDENCE| false|    true|0423|     004|  10|            46|     08B|     1197282|     1847598|2019|04/07/2019 04:05:...|41.736665235|-87.552800507|(41.736665235, -8...|                        47|    21202|             42|          509|   47|                    25|              19|         238|\n",
            "|11640896|   JC207203|2019-03-31 23:45:00|  091XX S HALSTED ST|CRIMINAL DAMAGE|         TO PROPERTY|           RESIDENCE| false|   false|2223|     022|  21|            73|      14|     1172579|     1844322|2019|04/07/2019 04:05:...|41.728254593|-87.643399865|(41.728254593, -8...|                        18|    21554|             72|          151|   13|                    59|               9|         243|\n",
            "|11640816|   JC207116|2019-03-31 23:40:00|008XX W SUNNYSIDE...|        BATTERY|DOMESTIC BATTERY ...|           APARTMENT| false|    true|1914|     019|  46|             3|     08B|     1169808|     1930084|2019|04/07/2019 04:05:...|41.963653562|-87.651054693|(41.963653562, -8...|                        37|    22616|             31|           20|   39|                    15|               5|           4|\n",
            "+--------+-----------+-------------------+--------------------+---------------+--------------------+--------------------+------+--------+----+--------+----+--------------+--------+------------+------------+----+--------------------+------------+-------------+--------------------+--------------------------+---------+---------------+-------------+-----+----------------------+----------------+------------+\n",
            "only showing top 5 rows\n",
            "\n"
          ],
          "name": "stdout"
        }
      ]
    },
    {
      "metadata": {
        "id": "HAIYVrNN7j-J",
        "colab_type": "code",
        "colab": {
          "base_uri": "https://localhost:8080/",
          "height": 35
        },
        "outputId": "69e2316f-f9eb-45bb-a4f1-2d6e2169e46a"
      },
      "cell_type": "code",
      "source": [
        "rc.count()"
      ],
      "execution_count": 33,
      "outputs": [
        {
          "output_type": "execute_result",
          "data": {
            "text/plain": [
              "6841687"
            ]
          },
          "metadata": {
            "tags": []
          },
          "execution_count": 33
        }
      ]
    },
    {
      "metadata": {
        "id": "j2cTG_947ki_",
        "colab_type": "text"
      },
      "cell_type": "markdown",
      "source": [
        "## Working with rows"
      ]
    },
    {
      "metadata": {
        "id": "E-5R6Mk08C4r",
        "colab_type": "text"
      },
      "cell_type": "markdown",
      "source": [
        "**Add the reported crimes for an additional day, 01-April-2019, to our dataset.**"
      ]
    },
    {
      "metadata": {
        "id": "yb5IpWlt72Lu",
        "colab_type": "code",
        "colab": {
          "base_uri": "https://localhost:8080/",
          "height": 35
        },
        "outputId": "3a84506c-b828-42fd-f1ec-f3d4efc53e5a"
      },
      "cell_type": "code",
      "source": [
        ""
      ],
      "execution_count": 51,
      "outputs": [
        {
          "output_type": "execute_result",
          "data": {
            "text/plain": [
              "8"
            ]
          },
          "metadata": {
            "tags": []
          },
          "execution_count": 51
        }
      ]
    },
    {
      "metadata": {
        "id": "S06KRLX68BSV",
        "colab_type": "code",
        "colab": {
          "base_uri": "https://localhost:8080/",
          "height": 228
        },
        "outputId": "a0d0c22b-3411-45c9-efb5-3c5a7332e0dd"
      },
      "cell_type": "code",
      "source": [
        "rc.union(one_day).show(5)"
      ],
      "execution_count": 52,
      "outputs": [
        {
          "output_type": "stream",
          "text": [
            "+--------+-----------+-------------------+--------------------+----+---------------+--------------------+--------------------+------+--------+----+--------+----+--------------+--------+------------+------------+----+--------------------+------------+-------------+--------------------+--------------------------+---------+---------------+-------------+-----+----------------------+----------------+------------+\n",
            "|      ID|Case Number|               Date|               Block|IUCR|   Primary Type|         Description|Location Description|Arrest|Domestic|Beat|District|Ward|Community Area|FBI Code|X Coordinate|Y Coordinate|Year|          Updated On|    Latitude|    Longitude|            Location|Historical Wards 2003-2015|Zip Codes|Community Areas|Census Tracts|Wards|Boundaries - ZIP Codes|Police Districts|Police Beats|\n",
            "+--------+-----------+-------------------+--------------------+----+---------------+--------------------+--------------------+------+--------+----+--------+----+--------------+--------+------------+------------+----+--------------------+------------+-------------+--------------------+--------------------------+---------+---------------+-------------+-----+----------------------+----------------+------------+\n",
            "|11640869|   JC207122|2019-03-31 23:51:00|    058XX W HURON ST|0486|        BATTERY|DOMESTIC BATTERY ...|           RESIDENCE| false|    true|1511|     015|  29|            25|     08B|     1137432|     1904052|2019|04/07/2019 04:05:...|41.892864608|-87.770719974|(41.892864608, -8...|                        52|    22216|             26|          672|    7|                    32|              25|          70|\n",
            "|11640912|   JC207126|2019-03-31 23:50:00|     016XX W 44TH ST|0496|        BATTERY|AGGRAVATED DOMEST...|           APARTMENT|  true|    true|0924|     009|  15|            61|     04B|     1165945|     1875532|2019|04/07/2019 04:05:...|41.814042305|-87.666815552|(41.814042305, -8...|                        29|    14924|             59|          706|    3|                    37|              23|         108|\n",
            "|11640852|   JC207120|2019-03-31 23:47:00|087XX S EXCHANGE AVE|0486|        BATTERY|DOMESTIC BATTERY ...|           RESIDENCE| false|    true|0423|     004|  10|            46|     08B|     1197282|     1847598|2019|04/07/2019 04:05:...|41.736665235|-87.552800507|(41.736665235, -8...|                        47|    21202|             42|          509|   47|                    25|              19|         238|\n",
            "|11640896|   JC207203|2019-03-31 23:45:00|  091XX S HALSTED ST|1310|CRIMINAL DAMAGE|         TO PROPERTY|           RESIDENCE| false|   false|2223|     022|  21|            73|      14|     1172579|     1844322|2019|04/07/2019 04:05:...|41.728254593|-87.643399865|(41.728254593, -8...|                        18|    21554|             72|          151|   13|                    59|               9|         243|\n",
            "|11640816|   JC207116|2019-03-31 23:40:00|008XX W SUNNYSIDE...|0486|        BATTERY|DOMESTIC BATTERY ...|           APARTMENT| false|    true|1914|     019|  46|             3|     08B|     1169808|     1930084|2019|04/07/2019 04:05:...|41.963653562|-87.651054693|(41.963653562, -8...|                        37|    22616|             31|           20|   39|                    15|               5|           4|\n",
            "+--------+-----------+-------------------+--------------------+----+---------------+--------------------+--------------------+------+--------+----+--------+----+--------------+--------+------------+------------+----+--------------------+------------+-------------+--------------------+--------------------------+---------+---------------+-------------+-----+----------------------+----------------+------------+\n",
            "only showing top 5 rows\n",
            "\n"
          ],
          "name": "stdout"
        }
      ]
    },
    {
      "metadata": {
        "id": "N40Une3S8A91",
        "colab_type": "code",
        "colab": {
          "base_uri": "https://localhost:8080/",
          "height": 35
        },
        "outputId": "79cdffef-726b-4ff6-986d-15a8eaf03a48"
      },
      "cell_type": "code",
      "source": [
        ""
      ],
      "execution_count": 53,
      "outputs": [
        {
          "output_type": "execute_result",
          "data": {
            "text/plain": [
              "6841695"
            ]
          },
          "metadata": {
            "tags": []
          },
          "execution_count": 53
        }
      ]
    },
    {
      "metadata": {
        "id": "PYXfKHz_c_BD",
        "colab_type": "code",
        "colab": {
          "base_uri": "https://localhost:8080/",
          "height": 35
        },
        "outputId": "1fa2ee00-449e-424a-a7d6-e0501873e9d0"
      },
      "cell_type": "code",
      "source": [
        ""
      ],
      "execution_count": 54,
      "outputs": [
        {
          "output_type": "execute_result",
          "data": {
            "text/plain": [
              "6841687"
            ]
          },
          "metadata": {
            "tags": []
          },
          "execution_count": 54
        }
      ]
    },
    {
      "metadata": {
        "id": "y0pk9J3NdAUk",
        "colab_type": "code",
        "colab": {
          "base_uri": "https://localhost:8080/",
          "height": 228
        },
        "outputId": "7a3b2219-c93a-4d14-99b7-629725647721"
      },
      "cell_type": "code",
      "source": [
        ""
      ],
      "execution_count": 55,
      "outputs": [
        {
          "output_type": "stream",
          "text": [
            "+--------+-----------+-------------------+--------------------+----+--------------------+--------------+--------------------+------+--------+----+--------+----+--------------+--------+------------+------------+----+--------------------+------------+-------------+--------------------+--------------------------+---------+---------------+-------------+-----+----------------------+----------------+------------+\n",
            "|      ID|Case Number|               Date|               Block|IUCR|        Primary Type|   Description|Location Description|Arrest|Domestic|Beat|District|Ward|Community Area|FBI Code|X Coordinate|Y Coordinate|Year|          Updated On|    Latitude|    Longitude|            Location|Historical Wards 2003-2015|Zip Codes|Community Areas|Census Tracts|Wards|Boundaries - ZIP Codes|Police Districts|Police Beats|\n",
            "+--------+-----------+-------------------+--------------------+----+--------------------+--------------+--------------------+------+--------+----+--------+----+--------------+--------+------------+------------+----+--------------------+------------+-------------+--------------------+--------------------------+---------+---------------+-------------+-----+----------------------+----------------+------------+\n",
            "|11642032|   JC208538|2019-04-02 00:00:00|042XX N CLAREMONT...|0910| MOTOR VEHICLE THEFT|    AUTOMOBILE|              STREET| false|   false|1911|     019|  47|             5|      07|     1159938|     1928231|2019|04/09/2019 04:24:...|41.958778759|-87.687394785|(41.958778759, -8...|                        13|    21538|             46|          623|   18|                    39|               5|          10|\n",
            "|11643196|   JC209905|2019-04-02 00:00:00|021XX W CHARLESTO...|0810|               THEFT|     OVER $500|              STREET| false|   false|1432|     014|  32|            22|      06|     1161772|     1914104|2019|04/09/2019 04:24:...|41.919975303|-87.681047469|(41.919975303, -8...|                        16|    22535|             23|          178|   40|                     1|               7|         180|\n",
            "|11660797|   JC225891|2019-04-02 00:00:00|080XX S MARYLAND AVE|1750|OFFENSE INVOLVING...|   CHILD ABUSE|           RESIDENCE| false|   false|0631|     006|   8|            44|     08B|     1183299|     1851867|2019|04/26/2019 04:03:...|41.748716415|-87.603896425|(41.748716415, -8...|                         9|    21546|             40|          247|   35|                    61|              20|         235|\n",
            "|11651015|   JC219530|2019-04-02 00:00:00| 093XX S CALUMET AVE|0281| CRIM SEXUAL ASSAULT|NON-AGGRAVATED|           RESIDENCE| false|    true|0633|     006|   9|            49|      02|     1180223|     1843182|2019|04/13/2019 03:55:...|41.724954751|-87.615433374|(41.724954751, -8...|                        31|    21546|             45|          554|   43|                    61|              20|         248|\n",
            "|11642476|   JC209092|2019-04-02 00:00:00|  054XX S SAWYER AVE|0820|               THEFT|$500 AND UNDER|              STREET| false|   false|0822|     008|  14|            63|      06|     1155638|     1868391|2019|04/09/2019 04:24:...|41.794659577|-87.704814347|(41.794659577, -8...|                        49|    22248|             61|          776|    8|                    56|              13|         129|\n",
            "+--------+-----------+-------------------+--------------------+----+--------------------+--------------+--------------------+------+--------+----+--------+----+--------------+--------+------------+------------+----+--------------------+------------+-------------+--------------------+--------------------------+---------+---------------+-------------+-----+----------------------+----------------+------------+\n",
            "only showing top 5 rows\n",
            "\n"
          ],
          "name": "stdout"
        }
      ]
    },
    {
      "metadata": {
        "id": "7UPiRyk78ERU",
        "colab_type": "text"
      },
      "cell_type": "markdown",
      "source": [
        "**What are the top 10 number of reported crimes by Primary type, in descending order of occurence?**"
      ]
    },
    {
      "metadata": {
        "id": "z-UnvpBX8IlX",
        "colab_type": "code",
        "colab": {
          "base_uri": "https://localhost:8080/",
          "height": 468
        },
        "outputId": "0af6660f-78b9-4997-917a-84b09fec9cde"
      },
      "cell_type": "code",
      "source": [
        ""
      ],
      "execution_count": 56,
      "outputs": [
        {
          "output_type": "stream",
          "text": [
            "+--------------------+-------+\n",
            "|        Primary type|  count|\n",
            "+--------------------+-------+\n",
            "|OFFENSE INVOLVING...|  46274|\n",
            "|            STALKING|   3468|\n",
            "|PUBLIC PEACE VIOL...|  48315|\n",
            "|           OBSCENITY|    604|\n",
            "|NON-CRIMINAL (SUB...|      9|\n",
            "|               ARSON|  11283|\n",
            "|   DOMESTIC VIOLENCE|      1|\n",
            "|            GAMBLING|  14438|\n",
            "|   CRIMINAL TRESPASS| 195803|\n",
            "|             ASSAULT| 425573|\n",
            "|      NON - CRIMINAL|     38|\n",
            "|LIQUOR LAW VIOLATION|  14130|\n",
            "| MOTOR VEHICLE THEFT| 317694|\n",
            "|               THEFT|1440495|\n",
            "|             BATTERY|1249262|\n",
            "|             ROBBERY| 258609|\n",
            "|            HOMICIDE|   9593|\n",
            "|           RITUALISM|     23|\n",
            "|    PUBLIC INDECENCY|    164|\n",
            "| CRIM SEXUAL ASSAULT|  27851|\n",
            "+--------------------+-------+\n",
            "only showing top 20 rows\n",
            "\n"
          ],
          "name": "stdout"
        }
      ]
    },
    {
      "metadata": {
        "id": "83nMbtdm8ITE",
        "colab_type": "code",
        "colab": {
          "base_uri": "https://localhost:8080/",
          "height": 468
        },
        "outputId": "9dec7651-9aed-4522-d43a-df95bc7fd540"
      },
      "cell_type": "code",
      "source": [
        ""
      ],
      "execution_count": 57,
      "outputs": [
        {
          "output_type": "stream",
          "text": [
            "+--------------------+-------+\n",
            "|        Primary type|  count|\n",
            "+--------------------+-------+\n",
            "|               THEFT|1440495|\n",
            "|             BATTERY|1249262|\n",
            "|     CRIMINAL DAMAGE| 780494|\n",
            "|           NARCOTICS| 716461|\n",
            "|             ASSAULT| 425573|\n",
            "|       OTHER OFFENSE| 425091|\n",
            "|            BURGLARY| 391699|\n",
            "| MOTOR VEHICLE THEFT| 317694|\n",
            "|  DECEPTIVE PRACTICE| 270421|\n",
            "|             ROBBERY| 258609|\n",
            "|   CRIMINAL TRESPASS| 195803|\n",
            "|   WEAPONS VIOLATION|  72699|\n",
            "|        PROSTITUTION|  68564|\n",
            "|PUBLIC PEACE VIOL...|  48315|\n",
            "|OFFENSE INVOLVING...|  46274|\n",
            "| CRIM SEXUAL ASSAULT|  27851|\n",
            "|         SEX OFFENSE|  25612|\n",
            "|INTERFERENCE WITH...|  15601|\n",
            "|            GAMBLING|  14438|\n",
            "|LIQUOR LAW VIOLATION|  14130|\n",
            "+--------------------+-------+\n",
            "only showing top 20 rows\n",
            "\n"
          ],
          "name": "stdout"
        }
      ]
    },
    {
      "metadata": {
        "id": "Km6bTx308H4I",
        "colab_type": "code",
        "colab": {}
      },
      "cell_type": "code",
      "source": [
        ""
      ],
      "execution_count": 0,
      "outputs": []
    },
    {
      "metadata": {
        "id": "KtHLIEg5dfjO",
        "colab_type": "text"
      },
      "cell_type": "markdown",
      "source": [
        "## Challenge questions"
      ]
    },
    {
      "metadata": {
        "id": "c45S4AEkdj5O",
        "colab_type": "text"
      },
      "cell_type": "markdown",
      "source": [
        "**What percentage of reported crimes resulted in an arrest?**"
      ]
    },
    {
      "metadata": {
        "id": "klBPv5JqdjDS",
        "colab_type": "code",
        "colab": {
          "base_uri": "https://localhost:8080/",
          "height": 35
        },
        "outputId": "bac2d2f7-b806-4236-ce52-0707943c0f87"
      },
      "cell_type": "code",
      "source": [
        ""
      ],
      "execution_count": 64,
      "outputs": [
        {
          "output_type": "execute_result",
          "data": {
            "text/plain": [
              "0.27657535341795086"
            ]
          },
          "metadata": {
            "tags": []
          },
          "execution_count": 64
        }
      ]
    },
    {
      "metadata": {
        "id": "VVndxpb1dmiy",
        "colab_type": "text"
      },
      "cell_type": "markdown",
      "source": [
        "  **What are the top 3 locations for reported crimes?**"
      ]
    },
    {
      "metadata": {
        "id": "U1AopR7ofBQW",
        "colab_type": "code",
        "colab": {
          "base_uri": "https://localhost:8080/",
          "height": 208
        },
        "outputId": "43369371-47f9-4f40-efdc-0e03c8677b94"
      },
      "cell_type": "code",
      "source": [
        ""
      ],
      "execution_count": 65,
      "outputs": [
        {
          "output_type": "stream",
          "text": [
            "+--------------------+-------+\n",
            "|Location Description|  count|\n",
            "+--------------------+-------+\n",
            "|              STREET|1790520|\n",
            "|           RESIDENCE|1159139|\n",
            "|           APARTMENT| 710861|\n",
            "|            SIDEWALK| 671590|\n",
            "|               OTHER| 260468|\n",
            "+--------------------+-------+\n",
            "only showing top 5 rows\n",
            "\n"
          ],
          "name": "stdout"
        }
      ]
    },
    {
      "metadata": {
        "id": "fzXNvJJNfMTn",
        "colab_type": "code",
        "colab": {}
      },
      "cell_type": "code",
      "source": [
        ""
      ],
      "execution_count": 0,
      "outputs": []
    },
    {
      "metadata": {
        "id": "IqvIxUPhfpGF",
        "colab_type": "text"
      },
      "cell_type": "markdown",
      "source": [
        "## Built-in functions"
      ]
    },
    {
      "metadata": {
        "id": "f59CT12RfrE9",
        "colab_type": "code",
        "colab": {}
      },
      "cell_type": "code",
      "source": [
        "from pyspark.sql import functions"
      ],
      "execution_count": 0,
      "outputs": []
    },
    {
      "metadata": {
        "id": "8JQ7mKzKfuiM",
        "colab_type": "code",
        "colab": {
          "base_uri": "https://localhost:8080/",
          "height": 55
        },
        "outputId": "0111a050-9303-4ca6-9644-83d890b145a7"
      },
      "cell_type": "code",
      "source": [
        "print(dir(functions))"
      ],
      "execution_count": 68,
      "outputs": [
        {
          "output_type": "stream",
          "text": [
            "['AutoBatchedSerializer', 'Column', 'DataFrame', 'DataType', 'PandasUDFType', 'PickleSerializer', 'PythonEvalType', 'SparkContext', 'StringType', 'UserDefinedFunction', '__all__', '__builtins__', '__cached__', '__doc__', '__file__', '__loader__', '__name__', '__package__', '__spec__', '_binary_mathfunctions', '_collect_list_doc', '_collect_set_doc', '_create_binary_mathfunction', '_create_function', '_create_udf', '_create_window_function', '_functions', '_functions_1_4', '_functions_1_6', '_functions_2_1', '_functions_deprecated', '_lit_doc', '_message', '_string_functions', '_test', '_to_java_column', '_to_seq', '_window_functions', '_wrap_deprecated_function', 'abs', 'acos', 'add_months', 'approxCountDistinct', 'approx_count_distinct', 'array', 'array_contains', 'asc', 'ascii', 'asin', 'atan', 'atan2', 'avg', 'base64', 'bin', 'bitwiseNOT', 'blacklist', 'broadcast', 'bround', 'cbrt', 'ceil', 'coalesce', 'col', 'collect_list', 'collect_set', 'column', 'concat', 'concat_ws', 'conv', 'corr', 'cos', 'cosh', 'count', 'countDistinct', 'covar_pop', 'covar_samp', 'crc32', 'create_map', 'cume_dist', 'current_date', 'current_timestamp', 'date_add', 'date_format', 'date_sub', 'date_trunc', 'datediff', 'dayofmonth', 'dayofweek', 'dayofyear', 'decode', 'degrees', 'dense_rank', 'desc', 'encode', 'exp', 'explode', 'explode_outer', 'expm1', 'expr', 'factorial', 'first', 'floor', 'format_number', 'format_string', 'from_json', 'from_unixtime', 'from_utc_timestamp', 'functools', 'get_json_object', 'greatest', 'grouping', 'grouping_id', 'hash', 'hex', 'hour', 'hypot', 'ignore_unicode_prefix', 'initcap', 'input_file_name', 'instr', 'isnan', 'isnull', 'json_tuple', 'kurtosis', 'lag', 'last', 'last_day', 'lead', 'least', 'length', 'levenshtein', 'lit', 'locate', 'log', 'log10', 'log1p', 'log2', 'lower', 'lpad', 'ltrim', 'map_keys', 'map_values', 'math', 'max', 'md5', 'mean', 'min', 'minute', 'monotonically_increasing_id', 'month', 'months_between', 'nanvl', 'next_day', 'ntile', 'pandas_udf', 'percent_rank', 'posexplode', 'posexplode_outer', 'pow', 'quarter', 'radians', 'rand', 'randn', 'rank', 'regexp_extract', 'regexp_replace', 'repeat', 'reverse', 'rint', 'round', 'row_number', 'rpad', 'rtrim', 'second', 'sha1', 'sha2', 'shiftLeft', 'shiftRight', 'shiftRightUnsigned', 'signum', 'sin', 'since', 'sinh', 'size', 'skewness', 'sort_array', 'soundex', 'spark_partition_id', 'split', 'sqrt', 'stddev', 'stddev_pop', 'stddev_samp', 'struct', 'substring', 'substring_index', 'sum', 'sumDistinct', 'sys', 'tan', 'tanh', 'toDegrees', 'toRadians', 'to_date', 'to_json', 'to_timestamp', 'to_utc_timestamp', 'translate', 'trim', 'trunc', 'udf', 'unbase64', 'unhex', 'unix_timestamp', 'upper', 'var_pop', 'var_samp', 'variance', 'warnings', 'weekofyear', 'when', 'window', 'year']\n"
          ],
          "name": "stdout"
        }
      ]
    },
    {
      "metadata": {
        "id": "iRFwzawof6H8",
        "colab_type": "text"
      },
      "cell_type": "markdown",
      "source": [
        "## String functions"
      ]
    },
    {
      "metadata": {
        "id": "qc8m932Kf8s8",
        "colab_type": "text"
      },
      "cell_type": "markdown",
      "source": [
        "**Display the Primary Type column in lower and upper characters, and the first 4 characters of the column**"
      ]
    },
    {
      "metadata": {
        "id": "EzPJpPnffwOt",
        "colab_type": "code",
        "colab": {}
      },
      "cell_type": "code",
      "source": [
        "from pyspark.sql.functions import lower,upper,substring"
      ],
      "execution_count": 0,
      "outputs": []
    },
    {
      "metadata": {
        "id": "k5kFO4_oje9I",
        "colab_type": "code",
        "colab": {
          "base_uri": "https://localhost:8080/",
          "height": 87
        },
        "outputId": "73275d98-55e9-415e-c5ba-bb3430542c77"
      },
      "cell_type": "code",
      "source": [
        "help('lower')"
      ],
      "execution_count": 71,
      "outputs": [
        {
          "output_type": "stream",
          "text": [
            "No Python documentation found for 'lower'.\n",
            "Use help() to get the interactive help utility.\n",
            "Use help(str) for help on the str class.\n",
            "\n"
          ],
          "name": "stdout"
        }
      ]
    },
    {
      "metadata": {
        "id": "B-pu3xH2jxN_",
        "colab_type": "code",
        "colab": {}
      },
      "cell_type": "code",
      "source": [
        ""
      ],
      "execution_count": 0,
      "outputs": []
    }
  ]
}