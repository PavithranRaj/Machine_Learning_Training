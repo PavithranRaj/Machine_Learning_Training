{
  "nbformat": 4,
  "nbformat_minor": 0,
  "metadata": {
    "kernelspec": {
      "display_name": "Python 3",
      "language": "python",
      "name": "python3"
    },
    "language_info": {
      "codemirror_mode": {
        "name": "ipython",
        "version": 3
      },
      "file_extension": ".py",
      "mimetype": "text/x-python",
      "name": "python",
      "nbconvert_exporter": "python",
      "pygments_lexer": "ipython3",
      "version": "3.6.7"
    },
    "colab": {
      "name": "KMeans_wholesale_customer_data.ipynb",
      "provenance": [],
      "collapsed_sections": [],
      "include_colab_link": true
    }
  },
  "cells": [
    {
      "cell_type": "markdown",
      "metadata": {
        "id": "view-in-github",
        "colab_type": "text"
      },
      "source": [
        "<a href=\"https://colab.research.google.com/github/anshupandey/Machine_Learning_Training/blob/master/KMeans_wholesale_customer_data.ipynb\" target=\"_parent\"><img src=\"https://colab.research.google.com/assets/colab-badge.svg\" alt=\"Open In Colab\"/></a>"
      ]
    },
    {
      "cell_type": "code",
      "metadata": {
        "id": "Ag05uweQaBaO",
        "colab_type": "code",
        "colab": {}
      },
      "source": [
        "# import all the packages\n",
        "import numpy as np\n",
        "import pandas as pd\n",
        "import matplotlib.pyplot as plt\n",
        "import seaborn as sns\n"
      ],
      "execution_count": 0,
      "outputs": []
    },
    {
      "cell_type": "code",
      "metadata": {
        "id": "sRichOn-aBaT",
        "colab_type": "code",
        "colab": {}
      },
      "source": [
        "# Load the dataset and store it into variable df\n",
        "path = \"\\datasets\\Wholesale customers data.csv\"\n",
        "df = pd.read_csv(path)\n"
      ],
      "execution_count": 0,
      "outputs": []
    },
    {
      "cell_type": "code",
      "metadata": {
        "id": "cSSt3EEKaBaW",
        "colab_type": "code",
        "colab": {}
      },
      "source": [
        "df.head()"
      ],
      "execution_count": 0,
      "outputs": []
    },
    {
      "cell_type": "code",
      "metadata": {
        "id": "CiyoGM8BaBaZ",
        "colab_type": "code",
        "colab": {}
      },
      "source": [
        "df.shape"
      ],
      "execution_count": 0,
      "outputs": []
    },
    {
      "cell_type": "code",
      "metadata": {
        "id": "paIf5JLGaBab",
        "colab_type": "code",
        "colab": {}
      },
      "source": [
        "# check for missing values\n",
        "df.isnull().sum()\n"
      ],
      "execution_count": 0,
      "outputs": []
    },
    {
      "cell_type": "code",
      "metadata": {
        "id": "RCTcsNspaBae",
        "colab_type": "code",
        "colab": {}
      },
      "source": [
        "# check for duplicates\n",
        "print(df.duplicated.sum())"
      ],
      "execution_count": 0,
      "outputs": []
    },
    {
      "cell_type": "code",
      "metadata": {
        "id": "PI2ta_XcaBag",
        "colab_type": "code",
        "colab": {}
      },
      "source": [
        "df.shape"
      ],
      "execution_count": 0,
      "outputs": []
    },
    {
      "cell_type": "markdown",
      "metadata": {
        "id": "A9n9VngPaBai",
        "colab_type": "text"
      },
      "source": [
        "## Performing clustering on 2 featues"
      ]
    },
    {
      "cell_type": "code",
      "metadata": {
        "id": "MI7UjybxaBaj",
        "colab_type": "code",
        "colab": {}
      },
      "source": [
        "# Take 2 features Fresh and Milk out of df and create a new dataframe df2\n",
        "df2 = df[[\"Fresh\",\"Milk\"]]"
      ],
      "execution_count": 0,
      "outputs": []
    },
    {
      "cell_type": "code",
      "metadata": {
        "id": "KzVR1ArMaBam",
        "colab_type": "code",
        "colab": {}
      },
      "source": [
        "# Now we will perform clustering on df2\n",
        "# importign the KMeans clustering class and creating the object\n",
        "from sklearn.cluster import KMeans\n",
        "model=KMeans(n_clusters=3,verbose=True,random_state=5) # mentioning the number of clusters as 3"
      ],
      "execution_count": 0,
      "outputs": []
    },
    {
      "cell_type": "code",
      "metadata": {
        "id": "t6c9LuAIaBao",
        "colab_type": "code",
        "colab": {}
      },
      "source": [
        "# training the model\n",
        "model.fit(df2)"
      ],
      "execution_count": 0,
      "outputs": []
    },
    {
      "cell_type": "code",
      "metadata": {
        "id": "rrDGfR7xaBar",
        "colab_type": "code",
        "colab": {}
      },
      "source": [
        "# analysing the patterns\n",
        "model.cluster_centers_"
      ],
      "execution_count": 0,
      "outputs": []
    },
    {
      "cell_type": "code",
      "metadata": {
        "id": "XEhGgjvwaBat",
        "colab_type": "code",
        "colab": {}
      },
      "source": [
        "df2['cluster']=model.predict(df2)\n",
        "df2.head(10)"
      ],
      "execution_count": 0,
      "outputs": []
    },
    {
      "cell_type": "code",
      "metadata": {
        "id": "mfoKEtceaBaw",
        "colab_type": "code",
        "colab": {}
      },
      "source": [
        "#analysing the cluster size\n",
        "# use seaborn to draw the countplot of the cluster column in the dataframe df2\n",
        "plt.figure(figsize=(8,6))\n",
        "sns.countplot(model.labels_)\n",
        "plt.show()"
      ],
      "execution_count": 0,
      "outputs": []
    },
    {
      "cell_type": "code",
      "metadata": {
        "id": "y_KXtTp2aBay",
        "colab_type": "code",
        "colab": {}
      },
      "source": [
        "# Analysing the clusters using scatter plot\n",
        "plt.figure(figsize=(12,5))\n",
        "plt.scatter(x='Fresh',y='Milk',c='r',\n",
        "            data=df2[df2['cluster']==0],\n",
        "            label='Low Fresh, Medium Milk')\n",
        "plt.scatter(x='Fresh',y='Milk',c='b',\n",
        "            data=df2[df2['cluster']==1],\n",
        "            label='High Fresh, High Milk')\n",
        "plt.scatter(x='Fresh',y='Milk',c='g',\n",
        "            data=df2[df2['cluster']==2],\n",
        "            label='Modium Fresh, Low Milk')\n",
        "plt.legend()\n",
        "plt.show()"
      ],
      "execution_count": 0,
      "outputs": []
    },
    {
      "cell_type": "code",
      "metadata": {
        "id": "dTGGXWIAaBa0",
        "colab_type": "code",
        "colab": {}
      },
      "source": [
        ""
      ],
      "execution_count": 0,
      "outputs": []
    },
    {
      "cell_type": "markdown",
      "metadata": {
        "id": "w_zCBvPHaBa2",
        "colab_type": "text"
      },
      "source": [
        "## Performing Clustering for 4 features"
      ]
    },
    {
      "cell_type": "code",
      "metadata": {
        "id": "mryY6EpAaBa2",
        "colab_type": "code",
        "colab": {}
      },
      "source": [
        "# create a new dataframe df3 with 4 features of your choice\n",
        "df3=df[[\"Fresh\",\"Milk\",\"Grocery\",\"Frozen\"]]"
      ],
      "execution_count": 0,
      "outputs": []
    },
    {
      "cell_type": "code",
      "metadata": {
        "id": "5Z1a8N7paBa4",
        "colab_type": "code",
        "colab": {}
      },
      "source": [
        "# create a clustering object\n",
        "model2=KMeans(n_clusters=3,verbose=True,random_state=5)"
      ],
      "execution_count": 0,
      "outputs": []
    },
    {
      "cell_type": "code",
      "metadata": {
        "id": "msr2kexMaBa5",
        "colab_type": "code",
        "colab": {}
      },
      "source": [
        "#train the model - write code\n",
        "model.fit(df3)"
      ],
      "execution_count": 0,
      "outputs": []
    },
    {
      "cell_type": "code",
      "metadata": {
        "id": "xrfxUvopaBa7",
        "colab_type": "code",
        "colab": {}
      },
      "source": [
        "# write code to analyse the cluster centers\n",
        "model.cluster_centers_"
      ],
      "execution_count": 0,
      "outputs": []
    },
    {
      "cell_type": "code",
      "metadata": {
        "id": "qW7ZvFP8aBa-",
        "colab_type": "code",
        "colab": {}
      },
      "source": [
        "df3['cluster']=model.predict(df3)\n",
        "df3.head(10)"
      ],
      "execution_count": 0,
      "outputs": []
    },
    {
      "cell_type": "code",
      "metadata": {
        "id": "LA4UljDBaBbC",
        "colab_type": "code",
        "colab": {}
      },
      "source": [
        "# write code to draw the countplot of the cluster feature from the dataframe df3 and analyze the cluster size\n",
        "plt.figure(figsize=(8,6))\n",
        "sns.countplot(model.labels_)\n",
        "plt.show()"
      ],
      "execution_count": 0,
      "outputs": []
    },
    {
      "cell_type": "markdown",
      "metadata": {
        "id": "CjH0qnzVaBbF",
        "colab_type": "text"
      },
      "source": [
        "put comments about the observation"
      ]
    },
    {
      "cell_type": "code",
      "metadata": {
        "id": "-0RRzs44aBbG",
        "colab_type": "code",
        "colab": {}
      },
      "source": [
        "#Check for best values of k\n",
        "k = []\n",
        "cost = []\n",
        "for i in range(1,15):\n",
        "  k.append(i)\n",
        "  model = KMeans(n_clusters=i, random_state = 5)\n",
        "  model.fit(df2)\n",
        "  cost.append(model.inertia_)\n",
        "\n",
        "#plot between cost v/s k\n",
        "plt.figure(figsize=(12,5))\n",
        "plt.plot(k,cost)\n",
        "plt.grid(True)\n",
        "plt.show()\n",
        "\n"
      ],
      "execution_count": 0,
      "outputs": []
    }
  ]
}