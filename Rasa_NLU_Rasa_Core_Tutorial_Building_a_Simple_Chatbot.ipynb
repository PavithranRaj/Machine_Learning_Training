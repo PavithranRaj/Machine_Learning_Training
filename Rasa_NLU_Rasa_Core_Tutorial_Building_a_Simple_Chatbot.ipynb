{
  "nbformat": 4,
  "nbformat_minor": 0,
  "metadata": {
    "colab": {
      "name": "Rasa-NLU-Rasa-Core-Tutorial -Building a Simple Chatbot.ipynb",
      "version": "0.3.2",
      "provenance": [],
      "collapsed_sections": [
        "VTfe-USzF6gd",
        "DfDC_yweF6gz",
        "KqmTJM-oF6hj",
        "LdXJz2B9F6iE",
        "jcHwRmtUQ5sp",
        "QMVilHYURpKo",
        "M5Hub6t-F6nJ",
        "PD7MpPAUF6nL",
        "0jyhb7w_F6nO",
        "rZsySIG-F6nt"
      ],
      "include_colab_link": true
    },
    "kernelspec": {
      "display_name": "Python 3",
      "language": "python",
      "name": "python3"
    },
    "language_info": {
      "codemirror_mode": {
        "name": "ipython",
        "version": 3
      },
      "file_extension": ".py",
      "mimetype": "text/x-python",
      "name": "python",
      "nbconvert_exporter": "python",
      "pygments_lexer": "ipython3",
      "version": "3.6.6"
    }
  },
  "cells": [
    {
      "cell_type": "markdown",
      "metadata": {
        "id": "view-in-github",
        "colab_type": "text"
      },
      "source": [
        "<a href=\"https://colab.research.google.com/github/anshupandey/Machine_Learning_Training/blob/master/Rasa_NLU_Rasa_Core_Tutorial_Building_a_Simple_Chatbot.ipynb\" target=\"_parent\"><img src=\"https://colab.research.google.com/assets/colab-badge.svg\" alt=\"Open In Colab\"/></a>"
      ]
    },
    {
      "cell_type": "markdown",
      "metadata": {
        "colab_type": "text",
        "id": "aZM1MslSF6d9"
      },
      "source": [
        "\n",
        "## Rasa NLU & Rasa Core Tutorial - Building Chatbots\n",
        "\n"
      ]
    },
    {
      "cell_type": "code",
      "metadata": {
        "colab_type": "code",
        "id": "n97cvW2RJIfU",
        "colab": {
          "resources": {
            "http://localhost:8080/nbextensions/google.colab/files.js": {
              "data": "Ly8gQ29weXJpZ2h0IDIwMTcgR29vZ2xlIExMQwovLwovLyBMaWNlbnNlZCB1bmRlciB0aGUgQXBhY2hlIExpY2Vuc2UsIFZlcnNpb24gMi4wICh0aGUgIkxpY2Vuc2UiKTsKLy8geW91IG1heSBub3QgdXNlIHRoaXMgZmlsZSBleGNlcHQgaW4gY29tcGxpYW5jZSB3aXRoIHRoZSBMaWNlbnNlLgovLyBZb3UgbWF5IG9idGFpbiBhIGNvcHkgb2YgdGhlIExpY2Vuc2UgYXQKLy8KLy8gICAgICBodHRwOi8vd3d3LmFwYWNoZS5vcmcvbGljZW5zZXMvTElDRU5TRS0yLjAKLy8KLy8gVW5sZXNzIHJlcXVpcmVkIGJ5IGFwcGxpY2FibGUgbGF3IG9yIGFncmVlZCB0byBpbiB3cml0aW5nLCBzb2Z0d2FyZQovLyBkaXN0cmlidXRlZCB1bmRlciB0aGUgTGljZW5zZSBpcyBkaXN0cmlidXRlZCBvbiBhbiAiQVMgSVMiIEJBU0lTLAovLyBXSVRIT1VUIFdBUlJBTlRJRVMgT1IgQ09ORElUSU9OUyBPRiBBTlkgS0lORCwgZWl0aGVyIGV4cHJlc3Mgb3IgaW1wbGllZC4KLy8gU2VlIHRoZSBMaWNlbnNlIGZvciB0aGUgc3BlY2lmaWMgbGFuZ3VhZ2UgZ292ZXJuaW5nIHBlcm1pc3Npb25zIGFuZAovLyBsaW1pdGF0aW9ucyB1bmRlciB0aGUgTGljZW5zZS4KCi8qKgogKiBAZmlsZW92ZXJ2aWV3IEhlbHBlcnMgZm9yIGdvb2dsZS5jb2xhYiBQeXRob24gbW9kdWxlLgogKi8KKGZ1bmN0aW9uKHNjb3BlKSB7CmZ1bmN0aW9uIHNwYW4odGV4dCwgc3R5bGVBdHRyaWJ1dGVzID0ge30pIHsKICBjb25zdCBlbGVtZW50ID0gZG9jdW1lbnQuY3JlYXRlRWxlbWVudCgnc3BhbicpOwogIGVsZW1lbnQudGV4dENvbnRlbnQgPSB0ZXh0OwogIGZvciAoY29uc3Qga2V5IG9mIE9iamVjdC5rZXlzKHN0eWxlQXR0cmlidXRlcykpIHsKICAgIGVsZW1lbnQuc3R5bGVba2V5XSA9IHN0eWxlQXR0cmlidXRlc1trZXldOwogIH0KICByZXR1cm4gZWxlbWVudDsKfQoKLy8gTWF4IG51bWJlciBvZiBieXRlcyB3aGljaCB3aWxsIGJlIHVwbG9hZGVkIGF0IGEgdGltZS4KY29uc3QgTUFYX1BBWUxPQURfU0laRSA9IDEwMCAqIDEwMjQ7Ci8vIE1heCBhbW91bnQgb2YgdGltZSB0byBibG9jayB3YWl0aW5nIGZvciB0aGUgdXNlci4KY29uc3QgRklMRV9DSEFOR0VfVElNRU9VVF9NUyA9IDMwICogMTAwMDsKCmZ1bmN0aW9uIF91cGxvYWRGaWxlcyhpbnB1dElkLCBvdXRwdXRJZCkgewogIGNvbnN0IHN0ZXBzID0gdXBsb2FkRmlsZXNTdGVwKGlucHV0SWQsIG91dHB1dElkKTsKICBjb25zdCBvdXRwdXRFbGVtZW50ID0gZG9jdW1lbnQuZ2V0RWxlbWVudEJ5SWQob3V0cHV0SWQpOwogIC8vIENhY2hlIHN0ZXBzIG9uIHRoZSBvdXRwdXRFbGVtZW50IHRvIG1ha2UgaXQgYXZhaWxhYmxlIGZvciB0aGUgbmV4dCBjYWxsCiAgLy8gdG8gdXBsb2FkRmlsZXNDb250aW51ZSBmcm9tIFB5dGhvbi4KICBvdXRwdXRFbGVtZW50LnN0ZXBzID0gc3RlcHM7CgogIHJldHVybiBfdXBsb2FkRmlsZXNDb250aW51ZShvdXRwdXRJZCk7Cn0KCi8vIFRoaXMgaXMgcm91Z2hseSBhbiBhc3luYyBnZW5lcmF0b3IgKG5vdCBzdXBwb3J0ZWQgaW4gdGhlIGJyb3dzZXIgeWV0KSwKLy8gd2hlcmUgdGhlcmUgYXJlIG11bHRpcGxlIGFzeW5jaHJvbm91cyBzdGVwcyBhbmQgdGhlIFB5dGhvbiBzaWRlIGlzIGdvaW5nCi8vIHRvIHBvbGwgZm9yIGNvbXBsZXRpb24gb2YgZWFjaCBzdGVwLgovLyBUaGlzIHVzZXMgYSBQcm9taXNlIHRvIGJsb2NrIHRoZSBweXRob24gc2lkZSBvbiBjb21wbGV0aW9uIG9mIGVhY2ggc3RlcCwKLy8gdGhlbiBwYXNzZXMgdGhlIHJlc3VsdCBvZiB0aGUgcHJldmlvdXMgc3RlcCBhcyB0aGUgaW5wdXQgdG8gdGhlIG5leHQgc3RlcC4KZnVuY3Rpb24gX3VwbG9hZEZpbGVzQ29udGludWUob3V0cHV0SWQpIHsKICBjb25zdCBvdXRwdXRFbGVtZW50ID0gZG9jdW1lbnQuZ2V0RWxlbWVudEJ5SWQob3V0cHV0SWQpOwogIGNvbnN0IHN0ZXBzID0gb3V0cHV0RWxlbWVudC5zdGVwczsKCiAgY29uc3QgbmV4dCA9IHN0ZXBzLm5leHQob3V0cHV0RWxlbWVudC5sYXN0UHJvbWlzZVZhbHVlKTsKICByZXR1cm4gUHJvbWlzZS5yZXNvbHZlKG5leHQudmFsdWUucHJvbWlzZSkudGhlbigodmFsdWUpID0+IHsKICAgIC8vIENhY2hlIHRoZSBsYXN0IHByb21pc2UgdmFsdWUgdG8gbWFrZSBpdCBhdmFpbGFibGUgdG8gdGhlIG5leHQKICAgIC8vIHN0ZXAgb2YgdGhlIGdlbmVyYXRvci4KICAgIG91dHB1dEVsZW1lbnQubGFzdFByb21pc2VWYWx1ZSA9IHZhbHVlOwogICAgcmV0dXJuIG5leHQudmFsdWUucmVzcG9uc2U7CiAgfSk7Cn0KCi8qKgogKiBHZW5lcmF0b3IgZnVuY3Rpb24gd2hpY2ggaXMgY2FsbGVkIGJldHdlZW4gZWFjaCBhc3luYyBzdGVwIG9mIHRoZSB1cGxvYWQKICogcHJvY2Vzcy4KICogQHBhcmFtIHtzdHJpbmd9IGlucHV0SWQgRWxlbWVudCBJRCBvZiB0aGUgaW5wdXQgZmlsZSBwaWNrZXIgZWxlbWVudC4KICogQHBhcmFtIHtzdHJpbmd9IG91dHB1dElkIEVsZW1lbnQgSUQgb2YgdGhlIG91dHB1dCBkaXNwbGF5LgogKiBAcmV0dXJuIHshSXRlcmFibGU8IU9iamVjdD59IEl0ZXJhYmxlIG9mIG5leHQgc3RlcHMuCiAqLwpmdW5jdGlvbiogdXBsb2FkRmlsZXNTdGVwKGlucHV0SWQsIG91dHB1dElkKSB7CiAgY29uc3QgaW5wdXRFbGVtZW50ID0gZG9jdW1lbnQuZ2V0RWxlbWVudEJ5SWQoaW5wdXRJZCk7CiAgaW5wdXRFbGVtZW50LmRpc2FibGVkID0gZmFsc2U7CgogIGNvbnN0IG91dHB1dEVsZW1lbnQgPSBkb2N1bWVudC5nZXRFbGVtZW50QnlJZChvdXRwdXRJZCk7CiAgb3V0cHV0RWxlbWVudC5pbm5lckhUTUwgPSAnJzsKCiAgY29uc3QgcGlja2VkUHJvbWlzZSA9IG5ldyBQcm9taXNlKChyZXNvbHZlKSA9PiB7CiAgICBpbnB1dEVsZW1lbnQuYWRkRXZlbnRMaXN0ZW5lcignY2hhbmdlJywgKGUpID0+IHsKICAgICAgcmVzb2x2ZShlLnRhcmdldC5maWxlcyk7CiAgICB9KTsKICB9KTsKCiAgY29uc3QgY2FuY2VsID0gZG9jdW1lbnQuY3JlYXRlRWxlbWVudCgnYnV0dG9uJyk7CiAgaW5wdXRFbGVtZW50LnBhcmVudEVsZW1lbnQuYXBwZW5kQ2hpbGQoY2FuY2VsKTsKICBjYW5jZWwudGV4dENvbnRlbnQgPSAnQ2FuY2VsIHVwbG9hZCc7CiAgY29uc3QgY2FuY2VsUHJvbWlzZSA9IG5ldyBQcm9taXNlKChyZXNvbHZlKSA9PiB7CiAgICBjYW5jZWwub25jbGljayA9ICgpID0+IHsKICAgICAgcmVzb2x2ZShudWxsKTsKICAgIH07CiAgfSk7CgogIC8vIENhbmNlbCB1cGxvYWQgaWYgdXNlciBoYXNuJ3QgcGlja2VkIGFueXRoaW5nIGluIHRpbWVvdXQuCiAgY29uc3QgdGltZW91dFByb21pc2UgPSBuZXcgUHJvbWlzZSgocmVzb2x2ZSkgPT4gewogICAgc2V0VGltZW91dCgoKSA9PiB7CiAgICAgIHJlc29sdmUobnVsbCk7CiAgICB9LCBGSUxFX0NIQU5HRV9USU1FT1VUX01TKTsKICB9KTsKCiAgLy8gV2FpdCBmb3IgdGhlIHVzZXIgdG8gcGljayB0aGUgZmlsZXMuCiAgY29uc3QgZmlsZXMgPSB5aWVsZCB7CiAgICBwcm9taXNlOiBQcm9taXNlLnJhY2UoW3BpY2tlZFByb21pc2UsIHRpbWVvdXRQcm9taXNlLCBjYW5jZWxQcm9taXNlXSksCiAgICByZXNwb25zZTogewogICAgICBhY3Rpb246ICdzdGFydGluZycsCiAgICB9CiAgfTsKCiAgaWYgKCFmaWxlcykgewogICAgcmV0dXJuIHsKICAgICAgcmVzcG9uc2U6IHsKICAgICAgICBhY3Rpb246ICdjb21wbGV0ZScsCiAgICAgIH0KICAgIH07CiAgfQoKICBjYW5jZWwucmVtb3ZlKCk7CgogIC8vIERpc2FibGUgdGhlIGlucHV0IGVsZW1lbnQgc2luY2UgZnVydGhlciBwaWNrcyBhcmUgbm90IGFsbG93ZWQuCiAgaW5wdXRFbGVtZW50LmRpc2FibGVkID0gdHJ1ZTsKCiAgZm9yIChjb25zdCBmaWxlIG9mIGZpbGVzKSB7CiAgICBjb25zdCBsaSA9IGRvY3VtZW50LmNyZWF0ZUVsZW1lbnQoJ2xpJyk7CiAgICBsaS5hcHBlbmQoc3BhbihmaWxlLm5hbWUsIHtmb250V2VpZ2h0OiAnYm9sZCd9KSk7CiAgICBsaS5hcHBlbmQoc3BhbigKICAgICAgICBgKCR7ZmlsZS50eXBlIHx8ICduL2EnfSkgLSAke2ZpbGUuc2l6ZX0gYnl0ZXMsIGAgKwogICAgICAgIGBsYXN0IG1vZGlmaWVkOiAkewogICAgICAgICAgICBmaWxlLmxhc3RNb2RpZmllZERhdGUgPyBmaWxlLmxhc3RNb2RpZmllZERhdGUudG9Mb2NhbGVEYXRlU3RyaW5nKCkgOgogICAgICAgICAgICAgICAgICAgICAgICAgICAgICAgICAgICAnbi9hJ30gLSBgKSk7CiAgICBjb25zdCBwZXJjZW50ID0gc3BhbignMCUgZG9uZScpOwogICAgbGkuYXBwZW5kQ2hpbGQocGVyY2VudCk7CgogICAgb3V0cHV0RWxlbWVudC5hcHBlbmRDaGlsZChsaSk7CgogICAgY29uc3QgZmlsZURhdGFQcm9taXNlID0gbmV3IFByb21pc2UoKHJlc29sdmUpID0+IHsKICAgICAgY29uc3QgcmVhZGVyID0gbmV3IEZpbGVSZWFkZXIoKTsKICAgICAgcmVhZGVyLm9ubG9hZCA9IChlKSA9PiB7CiAgICAgICAgcmVzb2x2ZShlLnRhcmdldC5yZXN1bHQpOwogICAgICB9OwogICAgICByZWFkZXIucmVhZEFzQXJyYXlCdWZmZXIoZmlsZSk7CiAgICB9KTsKICAgIC8vIFdhaXQgZm9yIHRoZSBkYXRhIHRvIGJlIHJlYWR5LgogICAgbGV0IGZpbGVEYXRhID0geWllbGQgewogICAgICBwcm9taXNlOiBmaWxlRGF0YVByb21pc2UsCiAgICAgIHJlc3BvbnNlOiB7CiAgICAgICAgYWN0aW9uOiAnY29udGludWUnLAogICAgICB9CiAgICB9OwoKICAgIC8vIFVzZSBhIGNodW5rZWQgc2VuZGluZyB0byBhdm9pZCBtZXNzYWdlIHNpemUgbGltaXRzLiBTZWUgYi82MjExNTY2MC4KICAgIGxldCBwb3NpdGlvbiA9IDA7CiAgICB3aGlsZSAocG9zaXRpb24gPCBmaWxlRGF0YS5ieXRlTGVuZ3RoKSB7CiAgICAgIGNvbnN0IGxlbmd0aCA9IE1hdGgubWluKGZpbGVEYXRhLmJ5dGVMZW5ndGggLSBwb3NpdGlvbiwgTUFYX1BBWUxPQURfU0laRSk7CiAgICAgIGNvbnN0IGNodW5rID0gbmV3IFVpbnQ4QXJyYXkoZmlsZURhdGEsIHBvc2l0aW9uLCBsZW5ndGgpOwogICAgICBwb3NpdGlvbiArPSBsZW5ndGg7CgogICAgICBjb25zdCBiYXNlNjQgPSBidG9hKFN0cmluZy5mcm9tQ2hhckNvZGUuYXBwbHkobnVsbCwgY2h1bmspKTsKICAgICAgeWllbGQgewogICAgICAgIHJlc3BvbnNlOiB7CiAgICAgICAgICBhY3Rpb246ICdhcHBlbmQnLAogICAgICAgICAgZmlsZTogZmlsZS5uYW1lLAogICAgICAgICAgZGF0YTogYmFzZTY0LAogICAgICAgIH0sCiAgICAgIH07CiAgICAgIHBlcmNlbnQudGV4dENvbnRlbnQgPQogICAgICAgICAgYCR7TWF0aC5yb3VuZCgocG9zaXRpb24gLyBmaWxlRGF0YS5ieXRlTGVuZ3RoKSAqIDEwMCl9JSBkb25lYDsKICAgIH0KICB9CgogIC8vIEFsbCBkb25lLgogIHlpZWxkIHsKICAgIHJlc3BvbnNlOiB7CiAgICAgIGFjdGlvbjogJ2NvbXBsZXRlJywKICAgIH0KICB9Owp9CgpzY29wZS5nb29nbGUgPSBzY29wZS5nb29nbGUgfHwge307CnNjb3BlLmdvb2dsZS5jb2xhYiA9IHNjb3BlLmdvb2dsZS5jb2xhYiB8fCB7fTsKc2NvcGUuZ29vZ2xlLmNvbGFiLl9maWxlcyA9IHsKICBfdXBsb2FkRmlsZXMsCiAgX3VwbG9hZEZpbGVzQ29udGludWUsCn07Cn0pKHNlbGYpOwo=",
              "ok": true,
              "headers": [
                [
                  "content-type",
                  "application/javascript"
                ]
              ],
              "status": 200,
              "status_text": ""
            }
          },
          "base_uri": "https://localhost:8080/",
          "height": 40
        },
        "outputId": "64acafd6-8db7-4c60-fbd4-1d7f521634a3"
      },
      "source": [
        "# How to upload your dataset to colab\n",
        "from google.colab import files\n",
        "uploaded = files.upload()"
      ],
      "execution_count": 1,
      "outputs": [
        {
          "output_type": "display_data",
          "data": {
            "text/html": [
              "\n",
              "     <input type=\"file\" id=\"files-42a9860e-cadb-4500-9d22-41a03c883c59\" name=\"files[]\" multiple disabled />\n",
              "     <output id=\"result-42a9860e-cadb-4500-9d22-41a03c883c59\">\n",
              "      Upload widget is only available when the cell has been executed in the\n",
              "      current browser session. Please rerun this cell to enable.\n",
              "      </output>\n",
              "      <script src=\"/nbextensions/google.colab/files.js\"></script> "
            ],
            "text/plain": [
              "<IPython.core.display.HTML object>"
            ]
          },
          "metadata": {
            "tags": []
          }
        }
      ]
    },
    {
      "cell_type": "code",
      "metadata": {
        "colab_type": "code",
        "id": "sVenGNpSKCwu",
        "colab": {}
      },
      "source": [
        "from IPython.display import Image"
      ],
      "execution_count": 0,
      "outputs": []
    },
    {
      "cell_type": "markdown",
      "metadata": {
        "colab_type": "text",
        "id": "MK7Wgv_BF6eD"
      },
      "source": [
        "### Rasa NLU & Rasa Core Tutorials\n",
        "+ Tabula rasa - blank slate\n",
        "+ Natural Language Understanding tool for understanding what is being said in short pieces of text\n",
        "+ \n",
        "#### Main Idea\n",
        "+ Intent Classification ===> rasa_nlu\n",
        "+ Entity Extraction ===> rasa_nlu\n",
        "+ Dialogue and Actions ===> rasa_core\n",
        "\n",
        "#### Installing\n",
        "- pip install tzlocal==1.5.1\n",
        "- pip install rasa_core\n",
        "\n",
        "#### Adding Backend for NLU\n",
        "- pip install rasa_nlu[spacy]\n",
        "\n",
        "+ install a language model for the language you need\n",
        "- python -m spacy download en_core_web_md\n",
        "- python -m spacy link en_core_web_md en\n",
        "\n",
        "\n",
        "#### Adding Graphiz for Visualization\n",
        "apt-get -qq install -y graphviz libgraphviz-dev pkg-config && pip install pygraphviz\n",
        "\n",
        "#### Easy way Run on Google Colab \n",
        "- Python 3.6 and up"
      ]
    },
    {
      "cell_type": "markdown",
      "metadata": {
        "colab_type": "text",
        "id": "bw1CLUzVF6eH"
      },
      "source": [
        "#### CLI Format\n",
        "###### Training and Building the Model\n",
        "    - python -m rasa_nlu.train -c nlu_config.yml --data data/nlu_data.md -o models --fixed_model_name nlu --project current --verbose\n",
        "###### Training the dialogue model\n",
        "    - python -m rasa_core.train -d domain.yml -s data/stories.md -o models/current/dialogue --epochs 200\n",
        "###### Runing our bots\n",
        "    - python -m rasa_core.run -d models/current/dialogue -u models/current/nlu"
      ]
    },
    {
      "cell_type": "markdown",
      "metadata": {
        "colab_type": "raw",
        "id": "rWIFeyUuF6eK"
      },
      "source": [
        "# Outline\n",
        "Installation\n",
        "Writing Stories\n",
        "Defining a Domain\n",
        "Training your Dialogue Model\n",
        "Starting up the bot\n",
        "Talking to the bot (no NLU)\n",
        "Part 2: Add natural language understanding\n",
        "Installing NLU\n",
        "Language Understanding\n",
        "Train the Rasa NLU Model\n",
        "Starting up the bot (with NLU)\n",
        "Talking to the Bot (with NLU)\n",
        "Pro Tip: Visualising the Training Data"
      ]
    },
    {
      "cell_type": "markdown",
      "metadata": {
        "colab_type": "text",
        "id": "ElG01XSPF6eN"
      },
      "source": [
        "#### Practice on the Colab\n",
        "https://colab.research.google.com/github/RasaHQ/rasa_core/blob/master/getting_started.ipynb"
      ]
    },
    {
      "cell_type": "code",
      "metadata": {
        "colab_type": "code",
        "id": "Gzxg_W-bF6eR",
        "outputId": "7feb58a0-dfce-45b3-e347-9eea8124d936",
        "colab": {
          "base_uri": "https://localhost:8080/",
          "height": 1000
        }
      },
      "source": [
        "# Installation\n",
        "!pip install rasa_core;\n",
        "\n",
        "import logging, io, json, warnings\n",
        "logging.basicConfig(level=\"INFO\")\n",
        "warnings.filterwarnings('ignore')"
      ],
      "execution_count": 2,
      "outputs": [
        {
          "output_type": "stream",
          "text": [
            "Collecting rasa_core\n",
            "\u001b[?25l  Downloading https://files.pythonhosted.org/packages/cd/7b/58a6a997023a8b1f6a0e292d08fd88b4d39ec325e103c6cebd1eb38f6545/rasa_core-0.14.5-py3-none-any.whl (212kB)\n",
            "\u001b[K     |████████████████████████████████| 215kB 5.2MB/s \n",
            "\u001b[?25hRequirement already satisfied: numpy~=1.16 in /usr/local/lib/python3.6/dist-packages (from rasa_core) (1.16.4)\n",
            "Collecting python-dateutil~=2.7 (from rasa_core)\n",
            "\u001b[?25l  Downloading https://files.pythonhosted.org/packages/41/17/c62faccbfbd163c7f57f3844689e3a78bae1f403648a6afb1d0866d87fbb/python_dateutil-2.8.0-py2.py3-none-any.whl (226kB)\n",
            "\u001b[K     |████████████████████████████████| 235kB 45.6MB/s \n",
            "\u001b[?25hCollecting pydot~=1.4 (from rasa_core)\n",
            "  Downloading https://files.pythonhosted.org/packages/33/d1/b1479a770f66d962f545c2101630ce1d5592d90cb4f083d38862e93d16d2/pydot-1.4.1-py2.py3-none-any.whl\n",
            "Requirement already satisfied: gevent~=1.3 in /usr/local/lib/python3.6/dist-packages (from rasa_core) (1.4.0)\n",
            "Collecting pykwalify~=1.7.0 (from rasa_core)\n",
            "\u001b[?25l  Downloading https://files.pythonhosted.org/packages/36/9f/612de8ca540bd24d604f544248c4c46e9db76f6ea5eb75fb4244da6ebbf0/pykwalify-1.7.0-py2.py3-none-any.whl (40kB)\n",
            "\u001b[K     |████████████████████████████████| 40kB 9.6MB/s \n",
            "\u001b[?25hCollecting tensorflow~=1.13.0 (from rasa_core)\n",
            "\u001b[?25l  Downloading https://files.pythonhosted.org/packages/db/d3/651f95288a6cd9094f7411cdd90ef12a3d01a268009e0e3cd66b5c8d65bd/tensorflow-1.13.2-cp36-cp36m-manylinux1_x86_64.whl (92.6MB)\n",
            "\u001b[K     |████████████████████████████████| 92.6MB 1.2MB/s \n",
            "\u001b[?25hCollecting flask-jwt-simple~=0.0.3 (from rasa_core)\n",
            "  Downloading https://files.pythonhosted.org/packages/e7/5f/432fde78e3a7dda20576396ebf561770a83104dc4b74a1ee84e71574ec0a/Flask-JWT-Simple-0.0.3.tar.gz\n",
            "Collecting colorclass~=2.2 (from rasa_core)\n",
            "  Downloading https://files.pythonhosted.org/packages/37/ea/ae8dbb956939d4392e6a7fdef87fda273854da1128edae016c4104240be8/colorclass-2.2.0.tar.gz\n",
            "Requirement already satisfied: pymongo~=3.7 in /usr/local/lib/python3.6/dist-packages (from rasa_core) (3.8.0)\n",
            "Requirement already satisfied: requests~=2.20 in /usr/local/lib/python3.6/dist-packages (from rasa_core) (2.21.0)\n",
            "Collecting twilio~=6.0 (from rasa_core)\n",
            "\u001b[?25l  Downloading https://files.pythonhosted.org/packages/1f/01/0e06bdbce5aa6e7d698ce4b2e086faf13d00a8dc9a95c64836544710a47f/twilio-6.29.4-py2.py3-none-any.whl (1.0MB)\n",
            "\u001b[K     |████████████████████████████████| 1.0MB 33.3MB/s \n",
            "\u001b[?25hCollecting rocketchat-API~=0.6.0 (from rasa_core)\n",
            "  Downloading https://files.pythonhosted.org/packages/e2/36/29d991028e2943b6a12abe12e3114a4cce13872283df7c7b784ee4cb59ed/rocketchat_API-0.6.34-py3-none-any.whl\n",
            "Requirement already satisfied: pytz~=2018.9 in /usr/local/lib/python3.6/dist-packages (from rasa_core) (2018.9)\n",
            "Collecting python-telegram-bot~=11.0 (from rasa_core)\n",
            "\u001b[?25l  Downloading https://files.pythonhosted.org/packages/84/6c/47932a4041ee76650ad1f45a80e1422077e1e99c08a4d7a61cfbe5393d41/python_telegram_bot-11.1.0-py2.py3-none-any.whl (326kB)\n",
            "\u001b[K     |████████████████████████████████| 327kB 43.3MB/s \n",
            "\u001b[?25hCollecting rasa-core-sdk~=0.14 (from rasa_core)\n",
            "  Downloading https://files.pythonhosted.org/packages/bc/5b/343937a872b497079803878e5a6f75deb4aeb00504d32601a0ffd37b90f4/rasa_core_sdk-0.14.0-py2.py3-none-any.whl\n",
            "Collecting redis~=2.0 (from rasa_core)\n",
            "\u001b[?25l  Downloading https://files.pythonhosted.org/packages/3b/f6/7a76333cf0b9251ecf49efff635015171843d9b977e4ffcf59f9c4428052/redis-2.10.6-py2.py3-none-any.whl (64kB)\n",
            "\u001b[K     |████████████████████████████████| 71kB 20.6MB/s \n",
            "\u001b[?25hCollecting terminaltables~=3.1 (from rasa_core)\n",
            "  Downloading https://files.pythonhosted.org/packages/9b/c4/4a21174f32f8a7e1104798c445dacdc1d4df86f2f26722767034e4de4bff/terminaltables-3.1.0.tar.gz\n",
            "Requirement already satisfied: typing~=3.0 in /usr/local/lib/python3.6/dist-packages (from rasa_core) (3.7.4)\n",
            "Collecting flask-cors~=3.0 (from rasa_core)\n",
            "  Downloading https://files.pythonhosted.org/packages/78/38/e68b11daa5d613e3a91e4bf3da76c94ac9ee0d9cd515af9c1ab80d36f709/Flask_Cors-3.0.8-py2.py3-none-any.whl\n",
            "Collecting fakeredis~=0.10.0 (from rasa_core)\n",
            "  Downloading https://files.pythonhosted.org/packages/64/bd/2756ddf350c4bb308e3255f9dcd6610f8b01344947bf74d5d166dc66b0a2/fakeredis-0.10.3-py2.py3-none-any.whl\n",
            "Collecting ruamel.yaml~=0.15.0 (from rasa_core)\n",
            "\u001b[?25l  Downloading https://files.pythonhosted.org/packages/e7/9f/83bb34eaf84032b0b54fcc4a6aff1858572d279d65a301c7ae875f523df5/ruamel.yaml-0.15.100-cp36-cp36m-manylinux1_x86_64.whl (656kB)\n",
            "\u001b[K     |████████████████████████████████| 665kB 50.5MB/s \n",
            "\u001b[?25hCollecting pika~=0.12.0 (from rasa_core)\n",
            "\u001b[?25l  Downloading https://files.pythonhosted.org/packages/bf/48/72de47f63ba353bacd74b76bb65bc63620b0706d8b0471798087cd5a4916/pika-0.12.0-py2.py3-none-any.whl (108kB)\n",
            "\u001b[K     |████████████████████████████████| 112kB 5.7MB/s \n",
            "\u001b[?25hCollecting packaging~=18.0 (from rasa_core)\n",
            "  Downloading https://files.pythonhosted.org/packages/89/d1/92e6df2e503a69df9faab187c684585f0136662c12bb1f36901d426f3fab/packaging-18.0-py2.py3-none-any.whl\n",
            "Collecting questionary>=1.0.1 (from rasa_core)\n",
            "  Downloading https://files.pythonhosted.org/packages/37/55/2333e851eeb6d7bf52906633e15558c3d6c73c6aa5744dd213f7258a0319/questionary-1.2.1-py3-none-any.whl\n",
            "Collecting python-socketio~=3.0 (from rasa_core)\n",
            "\u001b[?25l  Downloading https://files.pythonhosted.org/packages/b5/db/dc823aa0b3397e52ebe8bba62ee39d6b9a088377809bc230d3ad2e5d2448/python_socketio-3.1.2-py2.py3-none-any.whl (43kB)\n",
            "\u001b[K     |████████████████████████████████| 51kB 10.3MB/s \n",
            "\u001b[?25hRequirement already satisfied: networkx~=2.2 in /usr/local/lib/python3.6/dist-packages (from rasa_core) (2.3)\n",
            "Collecting mattermostwrapper~=2.0 (from rasa_core)\n",
            "  Downloading https://files.pythonhosted.org/packages/93/70/203660597d12788e958dd691aa11c3c29caa075eadb2ce94d2eb53099d1b/mattermostwrapper-2.1-py2.py3-none-any.whl\n",
            "Collecting rasa-nlu~=0.15 (from rasa_core)\n",
            "\u001b[?25l  Downloading https://files.pythonhosted.org/packages/19/c4/c6146c445a17b6ce414d773f93c941c44ca16720609000ae3d01409f9dfb/rasa_nlu-0.15.1-py3-none-any.whl (147kB)\n",
            "\u001b[K     |████████████████████████████████| 153kB 19.5MB/s \n",
            "\u001b[?25hCollecting jsonpickle~=1.0 (from rasa_core)\n",
            "  Downloading https://files.pythonhosted.org/packages/07/07/c157520a3ebd166c8c24c6ae0ecae7c3968eb4653ff0e5af369bb82f004d/jsonpickle-1.2-py2.py3-none-any.whl\n",
            "Requirement already satisfied: tqdm~=4.0 in /usr/local/lib/python3.6/dist-packages (from rasa_core) (4.28.1)\n",
            "Collecting colorhash~=1.0 (from rasa_core)\n",
            "  Downloading https://files.pythonhosted.org/packages/0e/e1/50dbc513aa74e99eca4c47f2a8206711f0bec436fdddd95eebaf7eaaa1aa/colorhash-1.0.2-py2.py3-none-any.whl\n",
            "Collecting scikit-learn~=0.20.0 (from rasa_core)\n",
            "\u001b[?25l  Downloading https://files.pythonhosted.org/packages/96/5b/5da31a6572dc6b7b2846a7cfcbe2e060a0e6af0e1059a6516965e40371b7/scikit_learn-0.20.4-cp36-cp36m-manylinux1_x86_64.whl (5.4MB)\n",
            "\u001b[K     |████████████████████████████████| 5.4MB 10.2MB/s \n",
            "\u001b[?25hRequirement already satisfied: scipy~=1.2 in /usr/local/lib/python3.6/dist-packages (from rasa_core) (1.3.1)\n",
            "Collecting slackclient~=1.0 (from rasa_core)\n",
            "  Downloading https://files.pythonhosted.org/packages/7c/2f/9b6db4c7686be3dc6b4244eaef4f37226a2ccca1a796516d4adcdfeefe56/slackclient-1.3.2.tar.gz\n",
            "Requirement already satisfied: jsonschema~=2.6 in /usr/local/lib/python3.6/dist-packages (from rasa_core) (2.6.0)\n",
            "Collecting apscheduler~=3.0 (from rasa_core)\n",
            "\u001b[?25l  Downloading https://files.pythonhosted.org/packages/09/ff/d5b0e81846cd5e92d02e5f2682b78c73a5d9d61bc1eae32cea5ac15c0d47/APScheduler-3.6.1-py2.py3-none-any.whl (58kB)\n",
            "\u001b[K     |████████████████████████████████| 61kB 22.1MB/s \n",
            "\u001b[?25hCollecting coloredlogs~=10.0 (from rasa_core)\n",
            "\u001b[?25l  Downloading https://files.pythonhosted.org/packages/08/0f/7877fc42fff0b9d70b6442df62d53b3868d3a6ad1b876bdb54335b30ff23/coloredlogs-10.0-py2.py3-none-any.whl (47kB)\n",
            "\u001b[K     |████████████████████████████████| 51kB 21.8MB/s \n",
            "\u001b[?25hCollecting webexteamssdk~=1.0 (from rasa_core)\n",
            "\u001b[?25l  Downloading https://files.pythonhosted.org/packages/30/c6/8e700b876e4cae92721569f579a36d8eee62e296c4813704e258a19f405c/webexteamssdk-1.1.1.tar.gz (48kB)\n",
            "\u001b[K     |████████████████████████████████| 51kB 20.5MB/s \n",
            "\u001b[?25hRequirement already satisfied: flask~=1.0 in /usr/local/lib/python3.6/dist-packages (from rasa_core) (1.1.1)\n",
            "Collecting fbmessenger~=5.0 (from rasa_core)\n",
            "  Downloading https://files.pythonhosted.org/packages/51/9d/9a426160e00c3c9d839314685fcec1f60ad04888be4228399dadb37c3226/fbmessenger-5.6.0-py2.py3-none-any.whl\n",
            "Requirement already satisfied: six>=1.5 in /usr/local/lib/python3.6/dist-packages (from python-dateutil~=2.7->rasa_core) (1.12.0)\n",
            "Requirement already satisfied: pyparsing>=2.1.4 in /usr/local/lib/python3.6/dist-packages (from pydot~=1.4->rasa_core) (2.4.2)\n",
            "Requirement already satisfied: greenlet>=0.4.14; platform_python_implementation == \"CPython\" in /usr/local/lib/python3.6/dist-packages (from gevent~=1.3->rasa_core) (0.4.15)\n",
            "Requirement already satisfied: docopt>=0.6.2 in /usr/local/lib/python3.6/dist-packages (from pykwalify~=1.7.0->rasa_core) (0.6.2)\n",
            "Requirement already satisfied: PyYAML>=3.11 in /usr/local/lib/python3.6/dist-packages (from pykwalify~=1.7.0->rasa_core) (3.13)\n",
            "Collecting tensorflow-estimator<1.14.0rc0,>=1.13.0 (from tensorflow~=1.13.0->rasa_core)\n",
            "\u001b[?25l  Downloading https://files.pythonhosted.org/packages/bb/48/13f49fc3fa0fdf916aa1419013bb8f2ad09674c275b4046d5ee669a46873/tensorflow_estimator-1.13.0-py2.py3-none-any.whl (367kB)\n",
            "\u001b[K     |████████████████████████████████| 368kB 51.1MB/s \n",
            "\u001b[?25hRequirement already satisfied: astor>=0.6.0 in /usr/local/lib/python3.6/dist-packages (from tensorflow~=1.13.0->rasa_core) (0.8.0)\n",
            "Requirement already satisfied: wheel>=0.26 in /usr/local/lib/python3.6/dist-packages (from tensorflow~=1.13.0->rasa_core) (0.33.4)\n",
            "Requirement already satisfied: protobuf>=3.6.1 in /usr/local/lib/python3.6/dist-packages (from tensorflow~=1.13.0->rasa_core) (3.7.1)\n",
            "Collecting tensorboard<1.14.0,>=1.13.0 (from tensorflow~=1.13.0->rasa_core)\n",
            "\u001b[?25l  Downloading https://files.pythonhosted.org/packages/0f/39/bdd75b08a6fba41f098b6cb091b9e8c7a80e1b4d679a581a0ccd17b10373/tensorboard-1.13.1-py3-none-any.whl (3.2MB)\n",
            "\u001b[K     |████████████████████████████████| 3.2MB 46.3MB/s \n",
            "\u001b[?25hRequirement already satisfied: absl-py>=0.1.6 in /usr/local/lib/python3.6/dist-packages (from tensorflow~=1.13.0->rasa_core) (0.7.1)\n",
            "Requirement already satisfied: termcolor>=1.1.0 in /usr/local/lib/python3.6/dist-packages (from tensorflow~=1.13.0->rasa_core) (1.1.0)\n",
            "Requirement already satisfied: grpcio>=1.8.6 in /usr/local/lib/python3.6/dist-packages (from tensorflow~=1.13.0->rasa_core) (1.15.0)\n",
            "Requirement already satisfied: keras-preprocessing>=1.0.5 in /usr/local/lib/python3.6/dist-packages (from tensorflow~=1.13.0->rasa_core) (1.1.0)\n",
            "Requirement already satisfied: gast>=0.2.0 in /usr/local/lib/python3.6/dist-packages (from tensorflow~=1.13.0->rasa_core) (0.2.2)\n",
            "Requirement already satisfied: keras-applications>=1.0.6 in /usr/local/lib/python3.6/dist-packages (from tensorflow~=1.13.0->rasa_core) (1.0.8)\n",
            "Collecting PyJWT (from flask-jwt-simple~=0.0.3->rasa_core)\n",
            "  Downloading https://files.pythonhosted.org/packages/87/8b/6a9f14b5f781697e51259d81657e6048fd31a113229cf346880bb7545565/PyJWT-1.7.1-py2.py3-none-any.whl\n",
            "Requirement already satisfied: idna<2.9,>=2.5 in /usr/local/lib/python3.6/dist-packages (from requests~=2.20->rasa_core) (2.8)\n",
            "Requirement already satisfied: certifi>=2017.4.17 in /usr/local/lib/python3.6/dist-packages (from requests~=2.20->rasa_core) (2019.6.16)\n",
            "Requirement already satisfied: urllib3<1.25,>=1.21.1 in /usr/local/lib/python3.6/dist-packages (from requests~=2.20->rasa_core) (1.24.3)\n",
            "Requirement already satisfied: chardet<3.1.0,>=3.0.2 in /usr/local/lib/python3.6/dist-packages (from requests~=2.20->rasa_core) (3.0.4)\n",
            "Requirement already satisfied: pysocks; python_version >= \"3.0\" in /usr/local/lib/python3.6/dist-packages (from twilio~=6.0->rasa_core) (1.7.0)\n",
            "Collecting cryptography (from python-telegram-bot~=11.0->rasa_core)\n",
            "\u001b[?25l  Downloading https://files.pythonhosted.org/packages/97/18/c6557f63a6abde34707196fb2cad1c6dc0dbff25a200d5044922496668a4/cryptography-2.7-cp34-abi3-manylinux1_x86_64.whl (2.3MB)\n",
            "\u001b[K     |████████████████████████████████| 2.3MB 46.5MB/s \n",
            "\u001b[?25hRequirement already satisfied: future>=0.16.0 in /usr/local/lib/python3.6/dist-packages (from python-telegram-bot~=11.0->rasa_core) (0.16.0)\n",
            "Collecting ConfigArgParse~=0.13.0 (from rasa-core-sdk~=0.14->rasa_core)\n",
            "  Downloading https://files.pythonhosted.org/packages/77/61/ae928ce6ab85d4479ea198488cf5ffa371bd4ece2030c0ee85ff668deac5/ConfigArgParse-0.13.0.tar.gz\n",
            "Collecting prompt-toolkit~=2.0 (from questionary>=1.0.1->rasa_core)\n",
            "\u001b[?25l  Downloading https://files.pythonhosted.org/packages/f7/a7/9b1dd14ef45345f186ef69d175bdd2491c40ab1dfa4b2b3e4352df719ed7/prompt_toolkit-2.0.9-py3-none-any.whl (337kB)\n",
            "\u001b[K     |████████████████████████████████| 337kB 43.5MB/s \n",
            "\u001b[?25hCollecting python-engineio>=3.2.0 (from python-socketio~=3.0->rasa_core)\n",
            "\u001b[?25l  Downloading https://files.pythonhosted.org/packages/2b/20/8e3ba16102ae2e245d70d9cb9fa48b076253fdb036dc43eea142294c2897/python_engineio-3.9.3-py2.py3-none-any.whl (119kB)\n",
            "\u001b[K     |████████████████████████████████| 122kB 46.5MB/s \n",
            "\u001b[?25hRequirement already satisfied: decorator>=4.3.0 in /usr/local/lib/python3.6/dist-packages (from networkx~=2.2->rasa_core) (4.4.0)\n",
            "Collecting klein~=17.10 (from rasa-nlu~=0.15->rasa_core)\n",
            "  Downloading https://files.pythonhosted.org/packages/8a/6b/adc97a7bb3fb781fdd9e49177ad873c1479f87b9745271cbeda81cbb9cc8/klein-17.10.0-py2.py3-none-any.whl\n",
            "Requirement already satisfied: cloudpickle~=0.6.1 in /usr/local/lib/python3.6/dist-packages (from rasa-nlu~=0.15->rasa_core) (0.6.1)\n",
            "Collecting matplotlib~=2.2 (from rasa-nlu~=0.15->rasa_core)\n",
            "\u001b[?25l  Downloading https://files.pythonhosted.org/packages/48/9b/7ee428ab95b07946d5c20ba01ce27721686e6051b202930d3d810821c166/matplotlib-2.2.4-cp36-cp36m-manylinux1_x86_64.whl (12.8MB)\n",
            "\u001b[K     |████████████████████████████████| 12.8MB 40.5MB/s \n",
            "\u001b[?25hRequirement already satisfied: boto3~=1.9 in /usr/local/lib/python3.6/dist-packages (from rasa-nlu~=0.15->rasa_core) (1.9.205)\n",
            "Collecting simplejson~=3.13 (from rasa-nlu~=0.15->rasa_core)\n",
            "\u001b[?25l  Downloading https://files.pythonhosted.org/packages/e3/24/c35fb1c1c315fc0fffe61ea00d3f88e85469004713dab488dee4f35b0aff/simplejson-3.16.0.tar.gz (81kB)\n",
            "\u001b[K     |████████████████████████████████| 81kB 28.9MB/s \n",
            "\u001b[?25hCollecting websocket-client<0.55.0,>=0.35 (from slackclient~=1.0->rasa_core)\n",
            "\u001b[?25l  Downloading https://files.pythonhosted.org/packages/26/2d/f749a5c82f6192d77ed061a38e02001afcba55fe8477336d26a950ab17ce/websocket_client-0.54.0-py2.py3-none-any.whl (200kB)\n",
            "\u001b[K     |████████████████████████████████| 204kB 50.5MB/s \n",
            "\u001b[?25hRequirement already satisfied: tzlocal>=1.2 in /usr/local/lib/python3.6/dist-packages (from apscheduler~=3.0->rasa_core) (1.5.1)\n",
            "Requirement already satisfied: setuptools>=0.7 in /usr/local/lib/python3.6/dist-packages (from apscheduler~=3.0->rasa_core) (41.2.0)\n",
            "Collecting humanfriendly>=4.7 (from coloredlogs~=10.0->rasa_core)\n",
            "\u001b[?25l  Downloading https://files.pythonhosted.org/packages/90/df/88bff450f333114680698dc4aac7506ff7cab164b794461906de31998665/humanfriendly-4.18-py2.py3-none-any.whl (73kB)\n",
            "\u001b[K     |████████████████████████████████| 81kB 23.6MB/s \n",
            "\u001b[?25hCollecting requests-toolbelt (from webexteamssdk~=1.0->rasa_core)\n",
            "\u001b[?25l  Downloading https://files.pythonhosted.org/packages/60/ef/7681134338fc097acef8d9b2f8abe0458e4d87559c689a8c306d0957ece5/requests_toolbelt-0.9.1-py2.py3-none-any.whl (54kB)\n",
            "\u001b[K     |████████████████████████████████| 61kB 23.2MB/s \n",
            "\u001b[?25hRequirement already satisfied: Jinja2>=2.10.1 in /usr/local/lib/python3.6/dist-packages (from flask~=1.0->rasa_core) (2.10.1)\n",
            "Requirement already satisfied: itsdangerous>=0.24 in /usr/local/lib/python3.6/dist-packages (from flask~=1.0->rasa_core) (1.1.0)\n",
            "Requirement already satisfied: Werkzeug>=0.15 in /usr/local/lib/python3.6/dist-packages (from flask~=1.0->rasa_core) (0.15.5)\n",
            "Requirement already satisfied: click>=5.1 in /usr/local/lib/python3.6/dist-packages (from flask~=1.0->rasa_core) (7.0)\n",
            "Collecting mock>=2.0.0 (from tensorflow-estimator<1.14.0rc0,>=1.13.0->tensorflow~=1.13.0->rasa_core)\n",
            "  Downloading https://files.pythonhosted.org/packages/05/d2/f94e68be6b17f46d2c353564da56e6fb89ef09faeeff3313a046cb810ca9/mock-3.0.5-py2.py3-none-any.whl\n",
            "Requirement already satisfied: markdown>=2.6.8 in /usr/local/lib/python3.6/dist-packages (from tensorboard<1.14.0,>=1.13.0->tensorflow~=1.13.0->rasa_core) (3.1.1)\n",
            "Requirement already satisfied: h5py in /usr/local/lib/python3.6/dist-packages (from keras-applications>=1.0.6->tensorflow~=1.13.0->rasa_core) (2.8.0)\n",
            "Collecting asn1crypto>=0.21.0 (from cryptography->python-telegram-bot~=11.0->rasa_core)\n",
            "\u001b[?25l  Downloading https://files.pythonhosted.org/packages/ea/cd/35485615f45f30a510576f1a56d1e0a7ad7bd8ab5ed7cdc600ef7cd06222/asn1crypto-0.24.0-py2.py3-none-any.whl (101kB)\n",
            "\u001b[K     |████████████████████████████████| 102kB 33.6MB/s \n",
            "\u001b[?25hRequirement already satisfied: cffi!=1.11.3,>=1.8 in /usr/local/lib/python3.6/dist-packages (from cryptography->python-telegram-bot~=11.0->rasa_core) (1.12.3)\n",
            "Requirement already satisfied: wcwidth in /usr/local/lib/python3.6/dist-packages (from prompt-toolkit~=2.0->questionary>=1.0.1->rasa_core) (0.1.7)\n",
            "Collecting Twisted>=15.5 (from klein~=17.10->rasa-nlu~=0.15->rasa_core)\n",
            "\u001b[?25l  Downloading https://files.pythonhosted.org/packages/14/49/eb654da38b15285d1f594933eefff36ce03106356197dba28ee8f5721a79/Twisted-19.7.0-cp36-cp36m-manylinux1_x86_64.whl (3.1MB)\n",
            "\u001b[K     |████████████████████████████████| 3.1MB 50.7MB/s \n",
            "\u001b[?25hCollecting incremental (from klein~=17.10->rasa-nlu~=0.15->rasa_core)\n",
            "  Downloading https://files.pythonhosted.org/packages/f5/1d/c98a587dc06e107115cf4a58b49de20b19222c83d75335a192052af4c4b7/incremental-17.5.0-py2.py3-none-any.whl\n",
            "Requirement already satisfied: kiwisolver>=1.0.1 in /usr/local/lib/python3.6/dist-packages (from matplotlib~=2.2->rasa-nlu~=0.15->rasa_core) (1.1.0)\n",
            "Requirement already satisfied: cycler>=0.10 in /usr/local/lib/python3.6/dist-packages (from matplotlib~=2.2->rasa-nlu~=0.15->rasa_core) (0.10.0)\n",
            "Requirement already satisfied: jmespath<1.0.0,>=0.7.1 in /usr/local/lib/python3.6/dist-packages (from boto3~=1.9->rasa-nlu~=0.15->rasa_core) (0.9.4)\n",
            "Requirement already satisfied: botocore<1.13.0,>=1.12.205 in /usr/local/lib/python3.6/dist-packages (from boto3~=1.9->rasa-nlu~=0.15->rasa_core) (1.12.205)\n",
            "Requirement already satisfied: s3transfer<0.3.0,>=0.2.0 in /usr/local/lib/python3.6/dist-packages (from boto3~=1.9->rasa-nlu~=0.15->rasa_core) (0.2.1)\n",
            "Requirement already satisfied: MarkupSafe>=0.23 in /usr/local/lib/python3.6/dist-packages (from Jinja2>=2.10.1->flask~=1.0->rasa_core) (1.1.1)\n",
            "Requirement already satisfied: pycparser in /usr/local/lib/python3.6/dist-packages (from cffi!=1.11.3,>=1.8->cryptography->python-telegram-bot~=11.0->rasa_core) (2.19)\n",
            "Collecting PyHamcrest>=1.9.0 (from Twisted>=15.5->klein~=17.10->rasa-nlu~=0.15->rasa_core)\n",
            "\u001b[?25l  Downloading https://files.pythonhosted.org/packages/9a/d5/d37fd731b7d0e91afcc84577edeccf4638b4f9b82f5ffe2f8b62e2ddc609/PyHamcrest-1.9.0-py2.py3-none-any.whl (52kB)\n",
            "\u001b[K     |████████████████████████████████| 61kB 25.5MB/s \n",
            "\u001b[?25hCollecting constantly>=15.1 (from Twisted>=15.5->klein~=17.10->rasa-nlu~=0.15->rasa_core)\n",
            "  Downloading https://files.pythonhosted.org/packages/b9/65/48c1909d0c0aeae6c10213340ce682db01b48ea900a7d9fce7a7910ff318/constantly-15.1.0-py2.py3-none-any.whl\n",
            "Collecting Automat>=0.3.0 (from Twisted>=15.5->klein~=17.10->rasa-nlu~=0.15->rasa_core)\n",
            "  Downloading https://files.pythonhosted.org/packages/a3/86/14c16bb98a5a3542ed8fed5d74fb064a902de3bdd98d6584b34553353c45/Automat-0.7.0-py2.py3-none-any.whl\n",
            "Collecting zope.interface>=4.4.2 (from Twisted>=15.5->klein~=17.10->rasa-nlu~=0.15->rasa_core)\n",
            "\u001b[?25l  Downloading https://files.pythonhosted.org/packages/19/17/1d198a6aaa9aa4590862fe3d3a2ed7dd808050cab4eebe8a2f2f813c1376/zope.interface-4.6.0-cp36-cp36m-manylinux1_x86_64.whl (167kB)\n",
            "\u001b[K     |████████████████████████████████| 174kB 45.0MB/s \n",
            "\u001b[?25hCollecting hyperlink>=17.1.1 (from Twisted>=15.5->klein~=17.10->rasa-nlu~=0.15->rasa_core)\n",
            "  Downloading https://files.pythonhosted.org/packages/7f/91/e916ca10a2de1cb7101a9b24da546fb90ee14629e23160086cf3361c4fb8/hyperlink-19.0.0-py2.py3-none-any.whl\n",
            "Requirement already satisfied: attrs>=17.4.0 in /usr/local/lib/python3.6/dist-packages (from Twisted>=15.5->klein~=17.10->rasa-nlu~=0.15->rasa_core) (19.1.0)\n",
            "Requirement already satisfied: docutils<0.15,>=0.10 in /usr/local/lib/python3.6/dist-packages (from botocore<1.13.0,>=1.12.205->boto3~=1.9->rasa-nlu~=0.15->rasa_core) (0.14)\n",
            "Building wheels for collected packages: flask-jwt-simple, colorclass, terminaltables, slackclient, webexteamssdk, ConfigArgParse, simplejson\n",
            "  Building wheel for flask-jwt-simple (setup.py) ... \u001b[?25l\u001b[?25hdone\n",
            "  Created wheel for flask-jwt-simple: filename=Flask_JWT_Simple-0.0.3-cp36-none-any.whl size=8001 sha256=57d8307937d6609090a1fb0ccff6578767ff20d03beed070e24b2a8b1d531fe2\n",
            "  Stored in directory: /root/.cache/pip/wheels/5d/86/c2/49573c0ce194f3073438e56dad49c462fe9c9a69a4fbe7b3fc\n",
            "  Building wheel for colorclass (setup.py) ... \u001b[?25l\u001b[?25hdone\n",
            "  Created wheel for colorclass: filename=colorclass-2.2.0-cp36-none-any.whl size=19396 sha256=3c60c30fb9091e9c4f9acd4064ef0d23c98e5331a8416af2085d878cabb73dac\n",
            "  Stored in directory: /root/.cache/pip/wheels/d1/86/9d/16127127306a92d7fd30267890a5634026c045391979c4c317\n",
            "  Building wheel for terminaltables (setup.py) ... \u001b[?25l\u001b[?25hdone\n",
            "  Created wheel for terminaltables: filename=terminaltables-3.1.0-cp36-none-any.whl size=15357 sha256=46a6df1c68fd53d923ac9f1fd7b1484aa1466bb7b4bffa5f480d9070c0bf004c\n",
            "  Stored in directory: /root/.cache/pip/wheels/30/6b/50/6c75775b681fb36cdfac7f19799888ef9d8813aff9e379663e\n",
            "  Building wheel for slackclient (setup.py) ... \u001b[?25l\u001b[?25hdone\n",
            "  Created wheel for slackclient: filename=slackclient-1.3.2-py2.py3-none-any.whl size=19228 sha256=38d87bcc1b5894df1783058ca025bbeb7331285d075253560007aca0c0e94c12\n",
            "  Stored in directory: /root/.cache/pip/wheels/3b/d4/92/3458f0e1a3e1a9c8935d3b2db89a75d74d8d45601fedec752f\n",
            "  Building wheel for webexteamssdk (setup.py) ... \u001b[?25l\u001b[?25hdone\n",
            "  Created wheel for webexteamssdk: filename=webexteamssdk-1.1.1-cp36-none-any.whl size=77166 sha256=96400653a37f1af1164ec5a46d77741eb7718500365c45e956bebe306622fd5b\n",
            "  Stored in directory: /root/.cache/pip/wheels/98/09/8a/03b3fcfe0a351b960427e278d87191e9a3065cd2a36b84ab3d\n",
            "  Building wheel for ConfigArgParse (setup.py) ... \u001b[?25l\u001b[?25hdone\n",
            "  Created wheel for ConfigArgParse: filename=ConfigArgParse-0.13.0-cp36-none-any.whl size=17570 sha256=c43fe34007f4b3442f079f60e36b3f143abcacbcfe1649868e09b6963bc6df64\n",
            "  Stored in directory: /root/.cache/pip/wheels/76/11/eb/12113becd46c0e8a70b8a63f9405e46a1f61d4aaa8532d676b\n",
            "  Building wheel for simplejson (setup.py) ... \u001b[?25l\u001b[?25hdone\n",
            "  Created wheel for simplejson: filename=simplejson-3.16.0-cp36-cp36m-linux_x86_64.whl size=114021 sha256=2d56dc2ae6dba2ab2bb15c4fbd58b35387022c184716ec26b42c6647ef3212a2\n",
            "  Stored in directory: /root/.cache/pip/wheels/5d/1a/1e/0350bb3df3e74215cd91325344cc86c2c691f5306eb4d22c77\n",
            "Successfully built flask-jwt-simple colorclass terminaltables slackclient webexteamssdk ConfigArgParse simplejson\n",
            "\u001b[31mERROR: plotnine 0.5.1 has requirement matplotlib>=3.0.0, but you'll have matplotlib 2.2.4 which is incompatible.\u001b[0m\n",
            "\u001b[31mERROR: jupyter-console 5.2.0 has requirement prompt-toolkit<2.0.0,>=1.0.0, but you'll have prompt-toolkit 2.0.9 which is incompatible.\u001b[0m\n",
            "\u001b[31mERROR: ipython 5.5.0 has requirement prompt-toolkit<2.0.0,>=1.0.4, but you'll have prompt-toolkit 2.0.9 which is incompatible.\u001b[0m\n",
            "\u001b[31mERROR: datascience 0.10.6 has requirement folium==0.2.1, but you'll have folium 0.8.3 which is incompatible.\u001b[0m\n",
            "\u001b[31mERROR: albumentations 0.1.12 has requirement imgaug<0.2.7,>=0.2.5, but you'll have imgaug 0.2.9 which is incompatible.\u001b[0m\n",
            "\u001b[31mERROR: rasa-nlu 0.15.1 has requirement future~=0.17.1, but you'll have future 0.16.0 which is incompatible.\u001b[0m\n",
            "Installing collected packages: python-dateutil, pydot, pykwalify, mock, tensorflow-estimator, tensorboard, tensorflow, PyJWT, flask-jwt-simple, colorclass, twilio, rocketchat-API, asn1crypto, cryptography, python-telegram-bot, ConfigArgParse, flask-cors, humanfriendly, coloredlogs, rasa-core-sdk, redis, terminaltables, fakeredis, ruamel.yaml, pika, packaging, prompt-toolkit, questionary, python-engineio, python-socketio, mattermostwrapper, PyHamcrest, incremental, constantly, Automat, zope.interface, hyperlink, Twisted, klein, scikit-learn, matplotlib, simplejson, rasa-nlu, jsonpickle, colorhash, websocket-client, slackclient, apscheduler, requests-toolbelt, webexteamssdk, fbmessenger, rasa-core\n",
            "  Found existing installation: python-dateutil 2.5.3\n",
            "    Uninstalling python-dateutil-2.5.3:\n",
            "      Successfully uninstalled python-dateutil-2.5.3\n",
            "  Found existing installation: pydot 1.3.0\n",
            "    Uninstalling pydot-1.3.0:\n",
            "      Successfully uninstalled pydot-1.3.0\n",
            "  Found existing installation: tensorflow-estimator 1.14.0\n",
            "    Uninstalling tensorflow-estimator-1.14.0:\n",
            "      Successfully uninstalled tensorflow-estimator-1.14.0\n",
            "  Found existing installation: tensorboard 1.14.0\n",
            "    Uninstalling tensorboard-1.14.0:\n",
            "      Successfully uninstalled tensorboard-1.14.0\n",
            "  Found existing installation: tensorflow 1.14.0\n",
            "    Uninstalling tensorflow-1.14.0:\n",
            "      Successfully uninstalled tensorflow-1.14.0\n",
            "  Found existing installation: packaging 19.1\n",
            "    Uninstalling packaging-19.1:\n",
            "      Successfully uninstalled packaging-19.1\n",
            "  Found existing installation: prompt-toolkit 1.0.16\n",
            "    Uninstalling prompt-toolkit-1.0.16:\n",
            "      Successfully uninstalled prompt-toolkit-1.0.16\n",
            "  Found existing installation: scikit-learn 0.21.3\n",
            "    Uninstalling scikit-learn-0.21.3:\n",
            "      Successfully uninstalled scikit-learn-0.21.3\n",
            "  Found existing installation: matplotlib 3.0.3\n",
            "    Uninstalling matplotlib-3.0.3:\n",
            "      Successfully uninstalled matplotlib-3.0.3\n",
            "Successfully installed Automat-0.7.0 ConfigArgParse-0.13.0 PyHamcrest-1.9.0 PyJWT-1.7.1 Twisted-19.7.0 apscheduler-3.6.1 asn1crypto-0.24.0 colorclass-2.2.0 coloredlogs-10.0 colorhash-1.0.2 constantly-15.1.0 cryptography-2.7 fakeredis-0.10.3 fbmessenger-5.6.0 flask-cors-3.0.8 flask-jwt-simple-0.0.3 humanfriendly-4.18 hyperlink-19.0.0 incremental-17.5.0 jsonpickle-1.2 klein-17.10.0 matplotlib-2.2.4 mattermostwrapper-2.1 mock-3.0.5 packaging-18.0 pika-0.12.0 prompt-toolkit-2.0.9 pydot-1.4.1 pykwalify-1.7.0 python-dateutil-2.8.0 python-engineio-3.9.3 python-socketio-3.1.2 python-telegram-bot-11.1.0 questionary-1.2.1 rasa-core-0.14.5 rasa-core-sdk-0.14.0 rasa-nlu-0.15.1 redis-2.10.6 requests-toolbelt-0.9.1 rocketchat-API-0.6.34 ruamel.yaml-0.15.100 scikit-learn-0.20.4 simplejson-3.16.0 slackclient-1.3.2 tensorboard-1.13.1 tensorflow-1.13.2 tensorflow-estimator-1.13.0 terminaltables-3.1.0 twilio-6.29.4 webexteamssdk-1.1.1 websocket-client-0.54.0 zope.interface-4.6.0\n"
          ],
          "name": "stdout"
        },
        {
          "output_type": "display_data",
          "data": {
            "application/vnd.colab-display-data+json": {
              "pip_warning": {
                "packages": [
                  "dateutil",
                  "matplotlib",
                  "mpl_toolkits",
                  "prompt_toolkit"
                ]
              }
            }
          },
          "metadata": {
            "tags": []
          }
        }
      ]
    },
    {
      "cell_type": "markdown",
      "metadata": {
        "colab_type": "text",
        "id": "UcwLUYwkF6ef"
      },
      "source": [
        "#### Writing A Story\n"
      ]
    },
    {
      "cell_type": "markdown",
      "metadata": {
        "colab_type": "raw",
        "id": "OEi_j1WNF6ei"
      },
      "source": [
        "### Story Structure\n",
        "  - starts stories ==> ##\n",
        "  -  intent/entities of the message you are sending ==> *\n",
        "  -  actions that the bot will do or take eg utter_greet,utter_location,API_function \n",
        "      with dash  -"
      ]
    },
    {
      "cell_type": "code",
      "metadata": {
        "colab_type": "code",
        "id": "uSablWyQF6e7",
        "outputId": "c4cf249a-61b4-448b-c253-637577103fde",
        "colab": {
          "base_uri": "https://localhost:8080/",
          "height": 34
        }
      },
      "source": [
        "stories_md = \"\"\"\n",
        "## happy path               <!-- name of the story - just for debugging -->\n",
        "* greet              \n",
        "  - utter_greet\n",
        "* mood_great               <!-- user utterance, in format intent[entities] -->\n",
        "  - utter_happy\n",
        "* mood_affirm\n",
        "  - utter_happy\n",
        "* mood_affirm\n",
        "  - utter_goodbye\n",
        "  \n",
        "  \n",
        "## sad path 1               <!-- this is already the start of the next story -->\n",
        "* greet\n",
        "  - utter_greet             <!-- action the bot should execute -->\n",
        "* mood_unhappy\n",
        "  - utter_cheer_up\n",
        "  - utter_did_that_help\n",
        "* mood_affirm\n",
        "  - utter_happy\n",
        "\n",
        "## good purchase path               <!-- name of the story - for making purchase-->\n",
        "* greet              \n",
        "  - utter_greet\n",
        "* mood_great               <!-- user utterance, in format intent[entities] -->\n",
        "  - utter_happy\n",
        "* mood_affirm\n",
        "  - utter_happy\n",
        "* purchase                  <! -- user intention to purchase things --->\n",
        "  - utter_purchase  \n",
        "* purchase_affirm           <!-- user utterance, in format intent[entities] -->\n",
        "  - utter_purchase\n",
        "* purchase_affirm\n",
        "  - utter_price\n",
        "* mood_affirm\n",
        "  - utter_goodbye\n",
        "  \n",
        "## good purchase path2\n",
        "* greet              \n",
        "  - utter_greet\n",
        "* inform                    <!-- user utterance, in format intent[entities] -->\n",
        "  - utter_ask_item\n",
        "  - utter_show_item\n",
        "  - utter_did_that_help\n",
        "* goodbye\n",
        "    - utter_goodbye\n",
        "\n",
        "## no purchase path               <!-- name of the story - for making purchase-->\n",
        "* greet              \n",
        "  - utter_greet\n",
        "* mood_great               <!-- user utterance, in format intent[entities] -->\n",
        "  - utter_happy\n",
        "* mood_affirm\n",
        "  - utter_happy\n",
        "* purchase                  <! -- user intention to purchase things --->\n",
        "  - utter_purchase  \n",
        "* purchase_deny           <!-- user utterance, in format intent[entities] -->\n",
        "  - utter_purchase\n",
        "* purchase_deny\n",
        "  - utter_ask_item\n",
        "* mood_affirm\n",
        "  - utter_goodbye\n",
        "  \n",
        "  \n",
        "## get weather of location\n",
        "* greet\n",
        "  - utter_greet\n",
        "* mood_great               <!-- user utterance, in format intent[entities] -->\n",
        "  - utter_happy\n",
        "* inform\n",
        "  - utter_ask_location\n",
        "* inform{\"location\": \"Paris\"}\n",
        "  - utter_ask_location\n",
        "* goodbye\n",
        "    - utter_goodbye\n",
        "    - export\n",
        "    \n",
        "## get weather of location\n",
        "* greet\n",
        "    - utter_greet\n",
        "* inform[location=London]\n",
        "    - utter_ask_location\n",
        "* goodbye\n",
        "    - utter_goodbye\n",
        "    - export\n",
        "  \n",
        "  \n",
        "## strange user\n",
        "* mood_affirm\n",
        "  - utter_happy\n",
        "* mood_affirm\n",
        "  - utter_unclear\n",
        "\n",
        "## say goodbye\n",
        "* goodbye\n",
        "  - utter_goodbye\n",
        "\n",
        "\"\"\"\n",
        "\n",
        "%store stories_md > my_stories.md"
      ],
      "execution_count": 3,
      "outputs": [
        {
          "output_type": "stream",
          "text": [
            "Writing 'stories_md' (str) to file 'my_stories.md'.\n"
          ],
          "name": "stdout"
        }
      ]
    },
    {
      "cell_type": "markdown",
      "metadata": {
        "colab_type": "text",
        "id": "iwHO536tF6fF"
      },
      "source": [
        "### Defining the Domain Universe/Environment\n",
        "+ Where(universe or environment) your bot lives\n",
        " - - intents : what you expect users to say,their intentions\n",
        " - - action : what your bot is supposed to do(list them eg utter_greet,custom actions)\n",
        " - - template :\n",
        "\n",
        "+ Stories"
      ]
    },
    {
      "cell_type": "markdown",
      "metadata": {
        "colab_type": "text",
        "id": "F3coRFkjF6fI"
      },
      "source": [
        ""
      ]
    },
    {
      "cell_type": "code",
      "metadata": {
        "colab_type": "code",
        "id": "mYfTB5o_F6fZ",
        "outputId": "df9fce1f-5ff0-484d-f397-748349f47352",
        "colab": {
          "base_uri": "https://localhost:8080/",
          "height": 34
        }
      },
      "source": [
        "domain_yml = \"\"\"\n",
        "intents:\n",
        "  - greet\n",
        "  - goodbye\n",
        "  - mood_affirm\n",
        "  - mood_deny\n",
        "  - mood_great\n",
        "  - mood_unhappy\n",
        "  - purchase\n",
        "  - purchase_affirm\n",
        "  - purchase_deny\n",
        "  - inform\n",
        "  - weather\n",
        "  \n",
        "entities:\n",
        " - location\n",
        " - money\n",
        " \n",
        "slots:\n",
        " location:\n",
        "   type: text\n",
        "\n",
        "\n",
        "actions:\n",
        "- utter_greet\n",
        "- utter_cheer_up\n",
        "- utter_purchase\n",
        "- utter_price\n",
        "- utter_did_that_help\n",
        "- utter_ask_item\n",
        "- utter_show_item\n",
        "- utter_happy\n",
        "- utter_goodbye\n",
        "- utter_unclear\n",
        "- utter_ask_location\n",
        "\n",
        "templates:\n",
        "  utter_greet:\n",
        "  - text: \"Hey! How are you?\"\n",
        "  - text: \"Hi How are you?\"\n",
        "  - text: \"What's up\"\n",
        "  - text: \"Bonjour\"\n",
        "\n",
        "  utter_cheer_up:\n",
        "  - text: \"Stay motivated,all is well\"\n",
        "  - text: \"Here is something to make you happy\"\n",
        "  - text: \"Here is something to cheer you up:\"\n",
        "    image: \"https://i.imgur.com/nGF1K8f.jpg\"\n",
        "\n",
        "  utter_did_that_help:\n",
        "  - text: \"Did that help you?\"\n",
        "\n",
        "  utter_unclear:\n",
        "  - text: \"I am not sure what you are aiming for.\"\n",
        "  - text: \"How do you mean? Can you clarify \"\n",
        "  - text: \"Not quite sure what you want. \"\n",
        "  \n",
        "  utter_happy:\n",
        "  - text: \"Great carry on!\" \n",
        "  \n",
        "  utter_purchase:\n",
        "  - text: 'What item do you want to buy?'\n",
        "  - text: 'Here are some recommended products'\n",
        "  - text: 'You want to buy this?'\n",
        "  - text: 'We only have this?'\n",
        "  - text: 'Can you give me the specs ?'\n",
        "  \n",
        "  utter_ask_item:\n",
        "  - text: 'What item do you want to buy?'\n",
        "  - text: 'How many do you want to buy?'\n",
        "  - text: 'Which type?'\n",
        "\n",
        "  utter_show_item:\n",
        "  - text: \"Here are some suggestions.\"\n",
        "  - text: \"Check this one out.\"\n",
        "  - text: \"We only have this product\"\n",
        "  - text: \"Sending sample picture\"\n",
        "    \n",
        "  utter_price:\n",
        "  - text: \"It will cost you this much\"\n",
        "  - text: \"The price is 100\"\n",
        "  - text: \"You will pay\"\n",
        "  - text: \"Here is the bill\"\n",
        "  - text: \"The total cost is 2000, you can pay with your credit card.\"\n",
        "\n",
        "  utter_ask_location:\n",
        "  - text:'In what location?'\n",
        "  - text:'In which place?'\n",
        "  - text:'Where precisely?'\n",
        "\n",
        "  utter_goodbye:\n",
        "  - text: \"Bye\"\n",
        "  - text: \"Talk to you later\"\n",
        "  - text: \"Cu\"\n",
        "  - text: \"Aurevoir\"\n",
        "  - text: \"A bientot \"\n",
        "  - text: \"goodbye\"\n",
        "  - text: \"have a nice day\"\n",
        "  - text: \"see you around\"\n",
        "  - text: \"bye bye\"\n",
        "  - text: \"See you later\"\n",
        "  \n",
        "\"\"\"\n",
        "\n",
        "%store domain_yml > my_domain.yml"
      ],
      "execution_count": 4,
      "outputs": [
        {
          "output_type": "stream",
          "text": [
            "Writing 'domain_yml' (str) to file 'my_domain.yml'.\n"
          ],
          "name": "stdout"
        }
      ]
    },
    {
      "cell_type": "markdown",
      "metadata": {
        "colab_type": "text",
        "id": "y2qiCMqGF6fi"
      },
      "source": [
        "#### Training your Dialogue Model\n",
        "+ rasa_core\n",
        "+ Using Keras\n",
        "+ Install keras + tensorflow backend"
      ]
    },
    {
      "cell_type": "code",
      "metadata": {
        "colab_type": "code",
        "id": "ebQxJxrfF6fm",
        "outputId": "956bb676-8807-4115-b23f-882880e86e3f",
        "colab": {
          "base_uri": "https://localhost:8080/",
          "height": 307
        }
      },
      "source": [
        "# Load the packages without using fallbackpolicy\n",
        "from rasa_core.policies.keras_policy import KerasPolicy\n",
        "from rasa_core.agent import Agent"
      ],
      "execution_count": 9,
      "outputs": [
        {
          "output_type": "error",
          "ename": "TypeError",
          "evalue": "ignored",
          "traceback": [
            "\u001b[0;31m---------------------------------------------------------------------------\u001b[0m",
            "\u001b[0;31mTypeError\u001b[0m                                 Traceback (most recent call last)",
            "\u001b[0;32m<ipython-input-9-a75b1d177a46>\u001b[0m in \u001b[0;36m<module>\u001b[0;34m()\u001b[0m\n\u001b[1;32m      1\u001b[0m \u001b[0;32mfrom\u001b[0m \u001b[0mrasa_core\u001b[0m\u001b[0;34m.\u001b[0m\u001b[0mpolicies\u001b[0m\u001b[0;34m.\u001b[0m\u001b[0mkeras_policy\u001b[0m \u001b[0;32mimport\u001b[0m \u001b[0mKerasPolicy\u001b[0m\u001b[0;34m\u001b[0m\u001b[0;34m\u001b[0m\u001b[0m\n\u001b[0;32m----> 2\u001b[0;31m \u001b[0;32mfrom\u001b[0m \u001b[0mrasa_core\u001b[0m\u001b[0;34m.\u001b[0m\u001b[0magent\u001b[0m \u001b[0;32mimport\u001b[0m \u001b[0mAgent\u001b[0m\u001b[0;34m\u001b[0m\u001b[0;34m\u001b[0m\u001b[0m\n\u001b[0m",
            "\u001b[0;32m/usr/local/lib/python3.6/dist-packages/rasa_core/agent.py\u001b[0m in \u001b[0;36m<module>\u001b[0;34m()\u001b[0m\n\u001b[1;32m     12\u001b[0m \u001b[0;34m\u001b[0m\u001b[0m\n\u001b[1;32m     13\u001b[0m \u001b[0;32mfrom\u001b[0m \u001b[0mrasa_core\u001b[0m \u001b[0;32mimport\u001b[0m \u001b[0mtraining\u001b[0m\u001b[0;34m,\u001b[0m \u001b[0mconstants\u001b[0m\u001b[0;34m,\u001b[0m \u001b[0mutils\u001b[0m\u001b[0;34m\u001b[0m\u001b[0;34m\u001b[0m\u001b[0m\n\u001b[0;32m---> 14\u001b[0;31m \u001b[0;32mfrom\u001b[0m \u001b[0mrasa_core\u001b[0m\u001b[0;34m.\u001b[0m\u001b[0mchannels\u001b[0m \u001b[0;32mimport\u001b[0m \u001b[0mUserMessage\u001b[0m\u001b[0;34m,\u001b[0m \u001b[0mOutputChannel\u001b[0m\u001b[0;34m,\u001b[0m \u001b[0mInputChannel\u001b[0m\u001b[0;34m\u001b[0m\u001b[0;34m\u001b[0m\u001b[0m\n\u001b[0m\u001b[1;32m     15\u001b[0m \u001b[0;32mfrom\u001b[0m \u001b[0mrasa_core\u001b[0m\u001b[0;34m.\u001b[0m\u001b[0mconstants\u001b[0m \u001b[0;32mimport\u001b[0m \u001b[0mDEFAULT_REQUEST_TIMEOUT\u001b[0m\u001b[0;34m\u001b[0m\u001b[0;34m\u001b[0m\u001b[0m\n\u001b[1;32m     16\u001b[0m \u001b[0;32mfrom\u001b[0m \u001b[0mrasa_core\u001b[0m\u001b[0;34m.\u001b[0m\u001b[0mdispatcher\u001b[0m \u001b[0;32mimport\u001b[0m \u001b[0mDispatcher\u001b[0m\u001b[0;34m\u001b[0m\u001b[0;34m\u001b[0m\u001b[0m\n",
            "\u001b[0;32m/usr/local/lib/python3.6/dist-packages/rasa_core/channels/__init__.py\u001b[0m in \u001b[0;36m<module>\u001b[0;34m()\u001b[0m\n\u001b[1;32m     15\u001b[0m \u001b[0;32mfrom\u001b[0m \u001b[0mrasa_core\u001b[0m\u001b[0;34m.\u001b[0m\u001b[0mchannels\u001b[0m\u001b[0;34m.\u001b[0m\u001b[0mbotframework\u001b[0m \u001b[0;32mimport\u001b[0m \u001b[0mBotFrameworkInput\u001b[0m  \u001b[0;31m# nopep8\u001b[0m\u001b[0;34m\u001b[0m\u001b[0;34m\u001b[0m\u001b[0m\n\u001b[1;32m     16\u001b[0m \u001b[0;32mfrom\u001b[0m \u001b[0mrasa_core\u001b[0m\u001b[0;34m.\u001b[0m\u001b[0mchannels\u001b[0m\u001b[0;34m.\u001b[0m\u001b[0mcallback\u001b[0m \u001b[0;32mimport\u001b[0m \u001b[0mCallbackInput\u001b[0m  \u001b[0;31m# nopep8\u001b[0m\u001b[0;34m\u001b[0m\u001b[0;34m\u001b[0m\u001b[0m\n\u001b[0;32m---> 17\u001b[0;31m \u001b[0;32mfrom\u001b[0m \u001b[0mrasa_core\u001b[0m\u001b[0;34m.\u001b[0m\u001b[0mchannels\u001b[0m\u001b[0;34m.\u001b[0m\u001b[0mconsole\u001b[0m \u001b[0;32mimport\u001b[0m \u001b[0mCmdlineInput\u001b[0m  \u001b[0;31m# nopep8\u001b[0m\u001b[0;34m\u001b[0m\u001b[0;34m\u001b[0m\u001b[0m\n\u001b[0m\u001b[1;32m     18\u001b[0m \u001b[0;32mfrom\u001b[0m \u001b[0mrasa_core\u001b[0m\u001b[0;34m.\u001b[0m\u001b[0mchannels\u001b[0m\u001b[0;34m.\u001b[0m\u001b[0mfacebook\u001b[0m \u001b[0;32mimport\u001b[0m \u001b[0mFacebookInput\u001b[0m  \u001b[0;31m# nopep8\u001b[0m\u001b[0;34m\u001b[0m\u001b[0;34m\u001b[0m\u001b[0m\n\u001b[1;32m     19\u001b[0m \u001b[0;32mfrom\u001b[0m \u001b[0mrasa_core\u001b[0m\u001b[0;34m.\u001b[0m\u001b[0mchannels\u001b[0m\u001b[0;34m.\u001b[0m\u001b[0mmattermost\u001b[0m \u001b[0;32mimport\u001b[0m \u001b[0mMattermostInput\u001b[0m  \u001b[0;31m# nopep8\u001b[0m\u001b[0;34m\u001b[0m\u001b[0;34m\u001b[0m\u001b[0m\n",
            "\u001b[0;32m/usr/local/lib/python3.6/dist-packages/rasa_core/channels/console.py\u001b[0m in \u001b[0;36m<module>\u001b[0;34m()\u001b[0m\n\u001b[1;32m      1\u001b[0m \u001b[0;31m# this builtin is needed so we can overwrite in test\u001b[0m\u001b[0;34m\u001b[0m\u001b[0;34m\u001b[0m\u001b[0;34m\u001b[0m\u001b[0m\n\u001b[0;32m----> 2\u001b[0;31m \u001b[0;32mimport\u001b[0m \u001b[0mquestionary\u001b[0m\u001b[0;34m\u001b[0m\u001b[0;34m\u001b[0m\u001b[0m\n\u001b[0m\u001b[1;32m      3\u001b[0m \u001b[0;34m\u001b[0m\u001b[0m\n\u001b[1;32m      4\u001b[0m \u001b[0;32mimport\u001b[0m \u001b[0mjson\u001b[0m\u001b[0;34m\u001b[0m\u001b[0;34m\u001b[0m\u001b[0m\n\u001b[1;32m      5\u001b[0m \u001b[0;32mimport\u001b[0m \u001b[0mrequests\u001b[0m\u001b[0;34m\u001b[0m\u001b[0;34m\u001b[0m\u001b[0m\n",
            "\u001b[0;32m/usr/local/lib/python3.6/dist-packages/questionary/__init__.py\u001b[0m in \u001b[0;36m<module>\u001b[0;34m()\u001b[0m\n\u001b[1;32m      3\u001b[0m \u001b[0;34m\u001b[0m\u001b[0m\n\u001b[1;32m      4\u001b[0m \u001b[0;32mimport\u001b[0m \u001b[0mquestionary\u001b[0m\u001b[0;34m.\u001b[0m\u001b[0mversion\u001b[0m\u001b[0;34m\u001b[0m\u001b[0;34m\u001b[0m\u001b[0m\n\u001b[0;32m----> 5\u001b[0;31m \u001b[0;32mfrom\u001b[0m \u001b[0mquestionary\u001b[0m\u001b[0;34m.\u001b[0m\u001b[0mform\u001b[0m \u001b[0;32mimport\u001b[0m \u001b[0mForm\u001b[0m\u001b[0;34m\u001b[0m\u001b[0;34m\u001b[0m\u001b[0m\n\u001b[0m\u001b[1;32m      6\u001b[0m \u001b[0;32mfrom\u001b[0m \u001b[0mquestionary\u001b[0m\u001b[0;34m.\u001b[0m\u001b[0mform\u001b[0m \u001b[0;32mimport\u001b[0m \u001b[0mform\u001b[0m\u001b[0;34m\u001b[0m\u001b[0;34m\u001b[0m\u001b[0m\n\u001b[1;32m      7\u001b[0m \u001b[0;32mfrom\u001b[0m \u001b[0mquestionary\u001b[0m\u001b[0;34m.\u001b[0m\u001b[0mprompt\u001b[0m \u001b[0;32mimport\u001b[0m \u001b[0mprompt\u001b[0m\u001b[0;34m\u001b[0m\u001b[0;34m\u001b[0m\u001b[0m\n",
            "\u001b[0;32m/usr/local/lib/python3.6/dist-packages/questionary/form.py\u001b[0m in \u001b[0;36m<module>\u001b[0;34m()\u001b[0m\n\u001b[1;32m      1\u001b[0m \u001b[0;32mfrom\u001b[0m \u001b[0mcollections\u001b[0m \u001b[0;32mimport\u001b[0m \u001b[0mnamedtuple\u001b[0m\u001b[0;34m\u001b[0m\u001b[0;34m\u001b[0m\u001b[0m\n\u001b[1;32m      2\u001b[0m \u001b[0;34m\u001b[0m\u001b[0m\n\u001b[0;32m----> 3\u001b[0;31m \u001b[0;32mfrom\u001b[0m \u001b[0mquestionary\u001b[0m\u001b[0;34m.\u001b[0m\u001b[0mconstants\u001b[0m \u001b[0;32mimport\u001b[0m \u001b[0mDEFAULT_KBI_MESSAGE\u001b[0m\u001b[0;34m\u001b[0m\u001b[0;34m\u001b[0m\u001b[0m\n\u001b[0m\u001b[1;32m      4\u001b[0m \u001b[0;32mfrom\u001b[0m \u001b[0mquestionary\u001b[0m\u001b[0;34m.\u001b[0m\u001b[0mquestion\u001b[0m \u001b[0;32mimport\u001b[0m \u001b[0mQuestion\u001b[0m\u001b[0;34m\u001b[0m\u001b[0;34m\u001b[0m\u001b[0m\n\u001b[1;32m      5\u001b[0m \u001b[0;34m\u001b[0m\u001b[0m\n",
            "\u001b[0;32m/usr/local/lib/python3.6/dist-packages/questionary/constants.py\u001b[0m in \u001b[0;36m<module>\u001b[0;34m()\u001b[0m\n\u001b[1;32m     38\u001b[0m     \u001b[0;34m(\u001b[0m\u001b[0;34m'selected'\u001b[0m\u001b[0;34m,\u001b[0m \u001b[0;34m''\u001b[0m\u001b[0;34m)\u001b[0m\u001b[0;34m,\u001b[0m  \u001b[0;31m# style for a selected item of a checkbox\u001b[0m\u001b[0;34m\u001b[0m\u001b[0;34m\u001b[0m\u001b[0m\n\u001b[1;32m     39\u001b[0m     \u001b[0;34m(\u001b[0m\u001b[0;34m'separator'\u001b[0m\u001b[0;34m,\u001b[0m \u001b[0;34m''\u001b[0m\u001b[0;34m)\u001b[0m\u001b[0;34m,\u001b[0m  \u001b[0;31m# separator in lists\u001b[0m\u001b[0;34m\u001b[0m\u001b[0;34m\u001b[0m\u001b[0m\n\u001b[0;32m---> 40\u001b[0;31m     \u001b[0;34m(\u001b[0m\u001b[0;34m'instruction'\u001b[0m\u001b[0;34m,\u001b[0m \u001b[0;34m''\u001b[0m\u001b[0;34m)\u001b[0m   \u001b[0;31m# user instructions for select, rawselect, checkbox\u001b[0m\u001b[0;34m\u001b[0m\u001b[0;34m\u001b[0m\u001b[0m\n\u001b[0m\u001b[1;32m     41\u001b[0m ])\n",
            "\u001b[0;31mTypeError\u001b[0m: object() takes no parameters"
          ]
        }
      ]
    },
    {
      "cell_type": "code",
      "metadata": {
        "colab_type": "code",
        "id": "GwPaZvlBF6gA",
        "outputId": "f597fbf8-b934-4e1b-c8c8-f6edfaf5f7ea",
        "colab": {
          "base_uri": "https://localhost:8080/",
          "height": 184
        }
      },
      "source": [
        "# Set the Agent\n",
        "agent = Agent('my_domain.yml', policies=[KerasPolicy()])"
      ],
      "execution_count": 8,
      "outputs": [
        {
          "output_type": "error",
          "ename": "NameError",
          "evalue": "ignored",
          "traceback": [
            "\u001b[0;31m---------------------------------------------------------------------------\u001b[0m",
            "\u001b[0;31mNameError\u001b[0m                                 Traceback (most recent call last)",
            "\u001b[0;32m<ipython-input-8-925c46f48c1d>\u001b[0m in \u001b[0;36m<module>\u001b[0;34m()\u001b[0m\n\u001b[0;32m----> 1\u001b[0;31m \u001b[0magent\u001b[0m \u001b[0;34m=\u001b[0m \u001b[0mAgent\u001b[0m\u001b[0;34m(\u001b[0m\u001b[0;34m'my_domain.yml'\u001b[0m\u001b[0;34m,\u001b[0m \u001b[0mpolicies\u001b[0m\u001b[0;34m=\u001b[0m\u001b[0;34m[\u001b[0m\u001b[0mKerasPolicy\u001b[0m\u001b[0;34m(\u001b[0m\u001b[0;34m)\u001b[0m\u001b[0;34m]\u001b[0m\u001b[0;34m)\u001b[0m\u001b[0;34m\u001b[0m\u001b[0;34m\u001b[0m\u001b[0m\n\u001b[0m",
            "\u001b[0;31mNameError\u001b[0m: name 'Agent' is not defined"
          ]
        }
      ]
    },
    {
      "cell_type": "code",
      "metadata": {
        "colab_type": "code",
        "id": "B_4t29zjF6gJ",
        "outputId": "47a2daac-4e04-4afe-8b47-c6a9458f914f",
        "colab": {
          "base_uri": "https://localhost:8080/",
          "height": 252
        }
      },
      "source": [
        "# loading our neatly defined training dialogues\n",
        "training_data = agent.load_data('my_stories.md')\n",
        "agent.train(\n",
        "        training_data,\n",
        "        validation_split=0.0,\n",
        "        epochs=400\n",
        ")"
      ],
      "execution_count": 6,
      "outputs": [
        {
          "output_type": "error",
          "ename": "NameError",
          "evalue": "ignored",
          "traceback": [
            "\u001b[0;31m---------------------------------------------------------------------------\u001b[0m",
            "\u001b[0;31mNameError\u001b[0m                                 Traceback (most recent call last)",
            "\u001b[0;32m<ipython-input-6-1fc216583734>\u001b[0m in \u001b[0;36m<module>\u001b[0;34m()\u001b[0m\n\u001b[0;32m----> 1\u001b[0;31m \u001b[0mtraining_data\u001b[0m \u001b[0;34m=\u001b[0m \u001b[0magent\u001b[0m\u001b[0;34m.\u001b[0m\u001b[0mload_data\u001b[0m\u001b[0;34m(\u001b[0m\u001b[0;34m'my_stories.md'\u001b[0m\u001b[0;34m)\u001b[0m\u001b[0;34m\u001b[0m\u001b[0;34m\u001b[0m\u001b[0m\n\u001b[0m\u001b[1;32m      2\u001b[0m agent.train(\n\u001b[1;32m      3\u001b[0m         \u001b[0mtraining_data\u001b[0m\u001b[0;34m,\u001b[0m\u001b[0;34m\u001b[0m\u001b[0;34m\u001b[0m\u001b[0m\n\u001b[1;32m      4\u001b[0m         \u001b[0mvalidation_split\u001b[0m\u001b[0;34m=\u001b[0m\u001b[0;36m0.0\u001b[0m\u001b[0;34m,\u001b[0m\u001b[0;34m\u001b[0m\u001b[0;34m\u001b[0m\u001b[0m\n\u001b[1;32m      5\u001b[0m         \u001b[0mepochs\u001b[0m\u001b[0;34m=\u001b[0m\u001b[0;36m400\u001b[0m\u001b[0;34m\u001b[0m\u001b[0;34m\u001b[0m\u001b[0m\n",
            "\u001b[0;31mNameError\u001b[0m: name 'agent' is not defined"
          ]
        }
      ]
    },
    {
      "cell_type": "code",
      "metadata": {
        "colab_type": "code",
        "id": "UiDCDaUWF6gS",
        "outputId": "49d66c9a-0af5-42cd-ff2e-b1d475828309",
        "colab": {
          "base_uri": "https://localhost:8080/",
          "height": 184
        }
      },
      "source": [
        "# Saving Our Dialogue Models\n",
        "agent.persist('models/dialogue')"
      ],
      "execution_count": 7,
      "outputs": [
        {
          "output_type": "error",
          "ename": "NameError",
          "evalue": "ignored",
          "traceback": [
            "\u001b[0;31m---------------------------------------------------------------------------\u001b[0m",
            "\u001b[0;31mNameError\u001b[0m                                 Traceback (most recent call last)",
            "\u001b[0;32m<ipython-input-7-0dbedfbb3c57>\u001b[0m in \u001b[0;36m<module>\u001b[0;34m()\u001b[0m\n\u001b[0;32m----> 1\u001b[0;31m \u001b[0magent\u001b[0m\u001b[0;34m.\u001b[0m\u001b[0mpersist\u001b[0m\u001b[0;34m(\u001b[0m\u001b[0;34m'models/dialogue'\u001b[0m\u001b[0;34m)\u001b[0m\u001b[0;34m\u001b[0m\u001b[0;34m\u001b[0m\u001b[0m\n\u001b[0m",
            "\u001b[0;31mNameError\u001b[0m: name 'agent' is not defined"
          ]
        }
      ]
    },
    {
      "cell_type": "markdown",
      "metadata": {
        "colab_type": "text",
        "id": "VTfe-USzF6gd"
      },
      "source": [
        "#### Starting up the bot\n",
        "+ rasa_core\n",
        "+ agent\n",
        "+ dialogue model"
      ]
    },
    {
      "cell_type": "markdown",
      "metadata": {
        "colab_type": "text",
        "id": "yqo8B7eLF6gh"
      },
      "source": [
        "The default 'Loader' for 'load(stream)' without further arguments can be unsafe.\n",
        "Use 'load(stream, Loader=ruamel.yaml.Loader)' explicitly if that is OK.\n",
        "Alternatively include the following in your code:\n",
        "\n",
        "  import warnings\n",
        "  warnings.simplefilter('ignore', ruamel.yaml.error.UnsafeLoaderWarning)\n",
        "\n",
        "In most other cases you should consider using 'safe_load(stream)'\n",
        "  data = yaml.load(stream)"
      ]
    },
    {
      "cell_type": "code",
      "metadata": {
        "colab_type": "code",
        "id": "LQukfMYbF6go",
        "outputId": "ce77936f-651f-4f3b-8c2a-6c272f2d3220",
        "colab": {
          "base_uri": "https://localhost:8080/",
          "height": 187
        }
      },
      "source": [
        "# Load Dialogue model into agent\n",
        "from rasa_core.agent import Agent\n",
        "agent = Agent.load('models/dialogue')\n",
        "\n",
        "# With NLU Trained data\n",
        "# agent = Agent.load('models/dialogue', interpreter=model_directory)"
      ],
      "execution_count": 0,
      "outputs": [
        {
          "output_type": "stream",
          "text": [
            "/usr/local/lib/python3.6/dist-packages/pykwalify/core.py:99: UnsafeLoaderWarning: \n",
            "The default 'Loader' for 'load(stream)' without further arguments can be unsafe.\n",
            "Use 'load(stream, Loader=ruamel.yaml.Loader)' explicitly if that is OK.\n",
            "Alternatively include the following in your code:\n",
            "\n",
            "  import warnings\n",
            "  warnings.simplefilter('ignore', ruamel.yaml.error.UnsafeLoaderWarning)\n",
            "\n",
            "In most other cases you should consider using 'safe_load(stream)'\n",
            "  data = yaml.load(stream)\n"
          ],
          "name": "stderr"
        }
      ]
    },
    {
      "cell_type": "markdown",
      "metadata": {
        "colab_type": "text",
        "id": "DfDC_yweF6gz"
      },
      "source": [
        "#### Practising or Talking to the bot"
      ]
    },
    {
      "cell_type": "code",
      "metadata": {
        "colab_type": "code",
        "id": "KA069DoUF6g1",
        "outputId": "ec967dc9-d07f-48bc-a276-5a2c4d0a826b",
        "colab": {
          "base_uri": "https://localhost:8080/",
          "height": 221
        }
      },
      "source": [
        "print(\"Your bot is ready to talk! Type your messages here or send 'stop'\")\n",
        "while True:\n",
        "    a = input()\n",
        "    if a == 'stop':\n",
        "        break\n",
        "    responses = agent.handle_message(a)\n",
        "    for response in responses:\n",
        "        print(response[\"text\"])"
      ],
      "execution_count": 0,
      "outputs": [
        {
          "output_type": "stream",
          "text": [
            "Your bot is ready to talk! Type your messages here or send 'stop'\n",
            "Hi\n",
            "Great carry on!\n",
            "It working\n",
            "I am not sure what you are aiming for.\n",
            "I want to buy a phone\n",
            "Great carry on!\n",
            "I need a phone\n",
            "I am not sure what you are aiming for.\n",
            "what is the weather?\n",
            "Great carry on!\n",
            "stop\n"
          ],
          "name": "stdout"
        }
      ]
    },
    {
      "cell_type": "code",
      "metadata": {
        "colab_type": "code",
        "id": "NzYIVuiCF6hD",
        "colab": {}
      },
      "source": [
        "## Training Our Bot with Rasa NLU"
      ],
      "execution_count": 0,
      "outputs": []
    },
    {
      "cell_type": "markdown",
      "metadata": {
        "colab_type": "text",
        "id": "Yh5P7F0KVJRA"
      },
      "source": [
        "### Natural Language Understanding and Intent Classification"
      ]
    },
    {
      "cell_type": "code",
      "metadata": {
        "colab_type": "code",
        "id": "TqIzBPiAF6hX",
        "colab": {}
      },
      "source": [
        "# Loading our Packages\n",
        "from rasa_nlu.training_data import load_data\n",
        "from rasa_nlu.config import RasaNLUModelConfig\n",
        "from rasa_nlu.model import Trainer\n",
        "from rasa_nlu import config"
      ],
      "execution_count": 0,
      "outputs": []
    },
    {
      "cell_type": "markdown",
      "metadata": {
        "colab_type": "text",
        "id": "KqmTJM-oF6hj"
      },
      "source": [
        "#### How our dataset can look like\n",
        "+ Describes what the messages mean/intention\n",
        "+ json\n",
        "+ md\n",
        "+ yml\n",
        "\n",
        "\n"
      ]
    },
    {
      "cell_type": "code",
      "metadata": {
        "colab_type": "code",
        "id": "v58M_OHtF6hl",
        "colab": {}
      },
      "source": [
        "## intent:intentname\n",
        "- examples\n",
        "- examples"
      ],
      "execution_count": 0,
      "outputs": []
    },
    {
      "cell_type": "code",
      "metadata": {
        "colab_type": "code",
        "id": "y1DRzLbjF6hv",
        "outputId": "92f765a5-0f47-4801-fdc4-d56390bf03e2",
        "colab": {
          "base_uri": "https://localhost:8080/",
          "height": 34
        }
      },
      "source": [
        "# Data Set\n",
        "nludataset_md = \"\"\"\n",
        "## intent:greet\n",
        "- hey\n",
        "- hello\n",
        "- hi\n",
        "- hello there\n",
        "- good morning\n",
        "- good evening\n",
        "- moin\n",
        "- hey there\n",
        "- let's go\n",
        "- hey dude\n",
        "- goodmorning\n",
        "- goodevening\n",
        "- good afternoon\n",
        "\n",
        "## intent:goodbye\n",
        "- cu\n",
        "- good by\n",
        "- cee you later\n",
        "- good night\n",
        "- good afternoon\n",
        "- bye\n",
        "- goodbye\n",
        "- have a nice day\n",
        "- see you around\n",
        "- bye bye\n",
        "- see you later\n",
        "\n",
        "## intent:mood_affirm\n",
        "- yes\n",
        "- indeed\n",
        "- of course\n",
        "- that sounds good\n",
        "- correct\n",
        "\n",
        "## intent:mood_deny\n",
        "- no\n",
        "- never\n",
        "- I don't think so\n",
        "- don't like that\n",
        "- no way\n",
        "- not really\n",
        "\n",
        "## intent:mood_great\n",
        "- perfect\n",
        "- very good\n",
        "- great\n",
        "- amazing\n",
        "- feeling like a king\n",
        "- wonderful\n",
        "- I am feeling very good\n",
        "- I am great\n",
        "- I am amazing\n",
        "- I am going to save the world\n",
        "- super\n",
        "- extremely good\n",
        "- so so perfect\n",
        "- so good\n",
        "- so perfect\n",
        "\n",
        "## intent:mood_unhappy\n",
        "- my day was horrible\n",
        "- I am sad\n",
        "- I don't feel very well\n",
        "- I am disappointed\n",
        "- super sad\n",
        "- I'm so sad\n",
        "- sad\n",
        "- very sad\n",
        "- unhappy\n",
        "- bad\n",
        "- very bad\n",
        "- awful\n",
        "- terrible\n",
        "- not so good\n",
        "- not very good\n",
        "- extremly sad\n",
        "- so saad\n",
        "- so sad\n",
        "\n",
        "## intent:purchase\n",
        "- I need to buy IPhone\n",
        "- I want to purchase some items\n",
        "- What product is that?\n",
        "- You need this watch.\n",
        "- How much that it cost?\n",
        "- He bought this house for $2000\n",
        "- She is selling it\n",
        "- I need to buy another\n",
        "- Can you make a request for the product\n",
        "- How much?\n",
        "- This is so expensive\n",
        "- It was very cheap\n",
        "- He is buying \n",
        "- You ordered for this\n",
        "- buy\n",
        "- sell\n",
        "- pay\n",
        "- purchase\n",
        "- what is the price\n",
        "- Tell me the price\n",
        "- Show me the product\n",
        "\n",
        "## intent:purchase_affirm\n",
        "- yes\n",
        "- yes I need to buy it\n",
        "- indeed I want to buy\n",
        "- of course\n",
        "- that sounds good\n",
        "- correct\n",
        "- I will take it\n",
        "\n",
        "## intent:purchase_deny\n",
        "- no I don't want it\n",
        "- never\n",
        "- I don't think so\n",
        "- don't like that\n",
        "- no way \n",
        "- not really\n",
        "- no\n",
        "\n",
        "\n",
        "## intent:inform\n",
        "- I need to buy IPhone\n",
        "- I want to purchase some items\n",
        "- What product is that?\n",
        "\n",
        "## intent:weather\n",
        "- I wonder what is the weather in Vilnius right now?\n",
        "- what is the weather?\n",
        "- Tell me the weather\n",
        "- Is the weather nice in Barcelona today\n",
        "- I am going to London today and I wonder what is the weather out there?\n",
        "- Show me the weather in Dublin, please\n",
        "- Tell me the weather in Vilnius\n",
        "\n",
        "\"\"\"\n",
        "\n",
        "%store nludataset_md > nludataset.md"
      ],
      "execution_count": 0,
      "outputs": [
        {
          "output_type": "stream",
          "text": [
            "Writing 'nludataset_md' (str) to file 'nludataset.md'.\n"
          ],
          "name": "stdout"
        }
      ]
    },
    {
      "cell_type": "code",
      "metadata": {
        "colab_type": "code",
        "id": "m6fYa0OVF6h4",
        "outputId": "d777e032-2d18-4283-f2d3-cd7c3813c425",
        "colab": {
          "base_uri": "https://localhost:8080/",
          "height": 156
        }
      },
      "source": [
        "# Loading Dataset\n",
        "# Dataset can be in json or md\n",
        "training_data = load_data('nludataset.md')\n"
      ],
      "execution_count": 0,
      "outputs": [
        {
          "output_type": "stream",
          "text": [
            "INFO:rasa_nlu.training_data.loading:Training data format of nludataset.md is md\n",
            "INFO:rasa_nlu.training_data.training_data:Training data stats: \n",
            "\t- intent examples: 113 (11 distinct intents)\n",
            "\t- Found intents: 'mood_great', 'mood_unhappy', 'greet', 'purchase', 'purchase_deny', 'goodbye', 'purchase_affirm', 'inform', 'mood_deny', 'weather', 'mood_affirm'\n",
            "\t- entity examples: 0 (0 distinct entities)\n",
            "\t- found entities: \n",
            "\n"
          ],
          "name": "stderr"
        }
      ]
    },
    {
      "cell_type": "code",
      "metadata": {
        "colab_type": "code",
        "id": "Jr-qIsiNQSMj",
        "colab": {}
      },
      "source": [
        "!apt-get -qq install -y graphviz libgraphviz-dev pkg-config && pip install pygraphviz;\n",
        "!pip install rasa_nlu[spacy];\n",
        "!python -m spacy download en;"
      ],
      "execution_count": 0,
      "outputs": []
    },
    {
      "cell_type": "markdown",
      "metadata": {
        "colab_type": "text",
        "id": "LdXJz2B9F6iE"
      },
      "source": [
        "#### Configuration File\n",
        "+ spacy as backend\n",
        "+ mitie as backend"
      ]
    },
    {
      "cell_type": "code",
      "metadata": {
        "colab_type": "code",
        "id": "3R6czQE9QnQI",
        "colab": {}
      },
      "source": [
        "# Load the Rasa_nlu Packages\n",
        "from rasa_nlu.training_data import load_data\n",
        "from rasa_nlu.config import RasaNLUModelConfig\n",
        "from rasa_nlu.model import Trainer\n",
        "\n"
      ],
      "execution_count": 0,
      "outputs": []
    },
    {
      "cell_type": "markdown",
      "metadata": {
        "colab_type": "text",
        "id": "jcHwRmtUQ5sp"
      },
      "source": [
        "#### Load and Configure our Backend with spaCy"
      ]
    },
    {
      "cell_type": "code",
      "metadata": {
        "colab_type": "code",
        "id": "LwXkaztYQxxS",
        "outputId": "c87eec2f-8ebd-4e65-fa0c-48f8f98d8321",
        "colab": {
          "base_uri": "https://localhost:8080/",
          "height": 156
        }
      },
      "source": [
        "\n",
        "training_data = load_data('nludataset.md')\n",
        "pipeline = [{\"name\": \"nlp_spacy\"}, \n",
        "            {\"name\": \"tokenizer_spacy\"}, \n",
        "            {\"name\": \"intent_featurizer_spacy\"},  \n",
        "            {\"name\": \"intent_classifier_sklearn\"}]\n"
      ],
      "execution_count": 0,
      "outputs": [
        {
          "output_type": "stream",
          "text": [
            "INFO:rasa_nlu.training_data.loading:Training data format of nludataset.md is md\n",
            "INFO:rasa_nlu.training_data.training_data:Training data stats: \n",
            "\t- intent examples: 113 (11 distinct intents)\n",
            "\t- Found intents: 'mood_great', 'mood_unhappy', 'greet', 'purchase', 'purchase_deny', 'goodbye', 'purchase_affirm', 'inform', 'mood_deny', 'weather', 'mood_affirm'\n",
            "\t- entity examples: 0 (0 distinct entities)\n",
            "\t- found entities: \n",
            "\n"
          ],
          "name": "stderr"
        }
      ]
    },
    {
      "cell_type": "code",
      "metadata": {
        "colab_type": "code",
        "id": "ITmioUy1RUpT",
        "outputId": "8903eb2e-efda-49d9-bc0b-1b36d740c170",
        "colab": {
          "base_uri": "https://localhost:8080/",
          "height": 238
        }
      },
      "source": [
        "trainer = Trainer(RasaNLUModelConfig({\"pipeline\": pipeline}))\n",
        "interpreter = trainer.train(training_data)\n",
        "model_directory = trainer.persist('./projects/default/')"
      ],
      "execution_count": 0,
      "outputs": [
        {
          "output_type": "stream",
          "text": [
            "INFO:rasa_nlu.utils.spacy_utils:Trying to load spacy model with name 'en'\n",
            "INFO:rasa_nlu.components:Added 'nlp_spacy' to component cache. Key 'nlp_spacy-en'.\n",
            "INFO:rasa_nlu.model:Starting to train component nlp_spacy\n",
            "INFO:rasa_nlu.model:Finished training component.\n",
            "INFO:rasa_nlu.model:Starting to train component tokenizer_spacy\n",
            "INFO:rasa_nlu.model:Finished training component.\n",
            "INFO:rasa_nlu.model:Starting to train component intent_featurizer_spacy\n",
            "INFO:rasa_nlu.model:Finished training component.\n",
            "INFO:rasa_nlu.model:Starting to train component intent_classifier_sklearn\n"
          ],
          "name": "stderr"
        },
        {
          "output_type": "stream",
          "text": [
            "Fitting 2 folds for each of 6 candidates, totalling 12 fits\n"
          ],
          "name": "stdout"
        },
        {
          "output_type": "stream",
          "text": [
            "[Parallel(n_jobs=1)]: Done  12 out of  12 | elapsed:    0.3s finished\n",
            "INFO:rasa_nlu.model:Finished training component.\n",
            "INFO:rasa_nlu.model:Successfully saved model into '/content/projects/default/default/model_20180725-072726'\n"
          ],
          "name": "stderr"
        }
      ]
    },
    {
      "cell_type": "code",
      "metadata": {
        "colab_type": "code",
        "id": "yJGIOPiuRc1O",
        "outputId": "2da8c1cd-9ad9-4451-f6bd-d854e89b3387",
        "colab": {
          "base_uri": "https://localhost:8080/",
          "height": 204
        }
      },
      "source": [
        "from rasa_core.agent import Agent\n",
        "agent = Agent.load('models/dialogue', interpreter=model_directory)"
      ],
      "execution_count": 0,
      "outputs": [
        {
          "output_type": "stream",
          "text": [
            "/usr/local/lib/python3.6/dist-packages/pykwalify/core.py:99: UnsafeLoaderWarning: \n",
            "The default 'Loader' for 'load(stream)' without further arguments can be unsafe.\n",
            "Use 'load(stream, Loader=ruamel.yaml.Loader)' explicitly if that is OK.\n",
            "Alternatively include the following in your code:\n",
            "\n",
            "  import warnings\n",
            "  warnings.simplefilter('ignore', ruamel.yaml.error.UnsafeLoaderWarning)\n",
            "\n",
            "In most other cases you should consider using 'safe_load(stream)'\n",
            "  data = yaml.load(stream)\n",
            "INFO:rasa_nlu.components:Added 'nlp_spacy' to component cache. Key 'nlp_spacy-en'.\n"
          ],
          "name": "stderr"
        }
      ]
    },
    {
      "cell_type": "markdown",
      "metadata": {
        "colab_type": "text",
        "id": "QMVilHYURpKo"
      },
      "source": [
        " #### Lets Chat"
      ]
    },
    {
      "cell_type": "code",
      "metadata": {
        "colab_type": "code",
        "id": "P_hQbAU6Rioi",
        "outputId": "94ab71ce-3c59-4417-d2a5-0f8e8d6a4285",
        "colab": {
          "base_uri": "https://localhost:8080/",
          "height": 697
        }
      },
      "source": [
        "print(\"Your bot is ready to talk! Type your messages here or send 'stop'\")\n",
        "while True:\n",
        "    a = input()\n",
        "    if a == 'stop':\n",
        "        break\n",
        "    responses = agent.handle_message(a)\n",
        "    for response in responses:\n",
        "        print(response[\"text\"])"
      ],
      "execution_count": 0,
      "outputs": [
        {
          "output_type": "stream",
          "text": [
            "Your bot is ready to talk! Type your messages here or send 'stop'\n",
            "Hi\n",
            "Hey! How are you?\n",
            "Good\n",
            "Great carry on!\n",
            "I need a phone\n",
            "text:'In what location?'\n",
            "London\n",
            "You want to buy this?\n",
            "yes\n",
            "Hi How are you?\n",
            "Good\n",
            "Great carry on!\n",
            "I need a Iphone\n",
            "text:'In which place?'\n",
            "Paris\n",
            "We only have this?\n",
            "how much\n",
            "Here is something to cheer you up:\n",
            "Image: https://i.imgur.com/nGF1K8f.jpg\n",
            "Did that help you?\n",
            "no\n",
            "Great carry on!\n",
            "I need to buy IPhone\n",
            "Great carry on!\n",
            "I need another\n",
            "A bientot \n",
            "What product is that\n",
            "How many do you want to buy?\n",
            "12\n",
            "Talk to you later\n",
            "i need a phone\n",
            "Great carry on!\n",
            "I need a new phone\n",
            "How do you mean? Can you clarify \n",
            "In Iphone\n",
            "What item do you want to buy?\n",
            "Iphone 6\n",
            "Bye\n",
            "stop\n"
          ],
          "name": "stdout"
        }
      ]
    },
    {
      "cell_type": "code",
      "metadata": {
        "colab_type": "code",
        "id": "tido-1lBSo0E",
        "colab": {}
      },
      "source": [
        "import platform\n",
        "platform.python_version()"
      ],
      "execution_count": 0,
      "outputs": []
    },
    {
      "cell_type": "markdown",
      "metadata": {
        "colab_type": "text",
        "id": "BW4strAnF6lA"
      },
      "source": [
        "## Intent Classification With Rasa_nlu"
      ]
    },
    {
      "cell_type": "code",
      "metadata": {
        "colab_type": "code",
        "id": "cadIx3ohF6lD",
        "colab": {}
      },
      "source": [
        "from rasa_nlu.training_data import load_data\n",
        "from rasa_nlu.config import RasaNLUModelConfig\n",
        "from rasa_nlu.model import Trainer\n",
        "from rasa_nlu import config"
      ],
      "execution_count": 0,
      "outputs": []
    },
    {
      "cell_type": "code",
      "metadata": {
        "colab_type": "code",
        "id": "Tiir3YTtF6lJ",
        "colab": {}
      },
      "source": [
        "# Loading our Dataset\n",
        "# Dataset can be in json,md\n",
        "training_data = load_data('nludataset.md')"
      ],
      "execution_count": 0,
      "outputs": []
    },
    {
      "cell_type": "code",
      "metadata": {
        "colab_type": "code",
        "id": "Z3y7jRAnF6lS",
        "colab": {}
      },
      "source": [
        "# Setting Up our Training Configuration with Spacy as Backend\n",
        "trainer = Trainer(config.load(\"config_spacy.yml\"))\n"
      ],
      "execution_count": 0,
      "outputs": []
    },
    {
      "cell_type": "code",
      "metadata": {
        "colab_type": "code",
        "id": "9Ni1EEmfF6lr",
        "colab": {}
      },
      "source": [
        "# Model Building\n",
        "model_directory = trainer.persist('./projects/default/')"
      ],
      "execution_count": 0,
      "outputs": []
    },
    {
      "cell_type": "code",
      "metadata": {
        "colab_type": "code",
        "id": "9poIt5RKF6l5",
        "colab": {}
      },
      "source": [
        "# Prediction\n",
        "from rasa_nlu.model import Metadata, Interpreter"
      ],
      "execution_count": 0,
      "outputs": []
    },
    {
      "cell_type": "code",
      "metadata": {
        "colab_type": "code",
        "id": "80uOlY4wF6mK",
        "colab": {}
      },
      "source": [
        "# where `model_directory points to the folder the model is persisted in\n",
        "interpreter = Interpreter.load(model_directory)"
      ],
      "execution_count": 0,
      "outputs": []
    },
    {
      "cell_type": "code",
      "metadata": {
        "colab_type": "code",
        "id": "ZtAmTNtOF6mY",
        "colab": {}
      },
      "source": [
        "# Predicting\n",
        "interpreter.parse(u\"I am looking for an African spot to eat\")"
      ],
      "execution_count": 0,
      "outputs": []
    },
    {
      "cell_type": "code",
      "metadata": {
        "colab_type": "code",
        "id": "eKmVKYzVF6mw",
        "colab": {}
      },
      "source": [
        "interpreter.parse(u\"Good morning everyone\")"
      ],
      "execution_count": 0,
      "outputs": []
    },
    {
      "cell_type": "markdown",
      "metadata": {
        "colab_type": "text",
        "id": "5zKh63SlF6nG"
      },
      "source": [
        "### Rasa GUI \n",
        "##### Online\n",
        "+ https://rasahq.github.io/rasa-nlu-trainer/\n",
        "##### Offline\n",
        "+ npm i -g rasa-nlu-trainer\n"
      ]
    },
    {
      "cell_type": "markdown",
      "metadata": {
        "colab_type": "text",
        "id": "M5Hub6t-F6nJ"
      },
      "source": [
        "#### Building your dataset\n",
        "+ rasa-nlu-trainer gui\n",
        " - - Requirement\n",
        "  - - - nodejs npm + browser(Chrome)\n",
        "  - - - - + npm install -g rasa-nlu-trainer\n",
        "  - - - fileformat in json\n",
        "+ DIY"
      ]
    },
    {
      "cell_type": "markdown",
      "metadata": {
        "colab_type": "text",
        "id": "PD7MpPAUF6nL"
      },
      "source": [
        "#### Basic Format of the Dataset.Json\n",
        "###### Most Basic Format \n",
        "{\n",
        "  \"rasa_nlu_data\": {}\n",
        "}\n",
        "\n",
        "\n",
        "#### Simple Format\n",
        "{\n",
        "  \"rasa_nlu_data\": {\n",
        "    \"common_examples\": []\n",
        "  }\n",
        "}"
      ]
    },
    {
      "cell_type": "markdown",
      "metadata": {
        "colab_type": "text",
        "id": "0jyhb7w_F6nO"
      },
      "source": [
        "#### Evaluating Model"
      ]
    },
    {
      "cell_type": "code",
      "metadata": {
        "colab_type": "code",
        "id": "PqQsvURuF6nQ",
        "colab": {}
      },
      "source": [
        "# Import from rasa_nlu\n",
        "from rasa_nlu.evaluate import run_evaluation\n",
        "\n",
        "run_evaluation(\"sampledatasetrasa.json\", model_directory)"
      ],
      "execution_count": 0,
      "outputs": []
    },
    {
      "cell_type": "code",
      "metadata": {
        "colab_type": "code",
        "id": "dvIgCImqF6nc",
        "colab": {}
      },
      "source": [
        ""
      ],
      "execution_count": 0,
      "outputs": []
    },
    {
      "cell_type": "markdown",
      "metadata": {
        "colab_type": "text",
        "id": "rZsySIG-F6nt"
      },
      "source": [
        "#### Adding Custom API functions"
      ]
    },
    {
      "cell_type": "code",
      "metadata": {
        "colab_type": "code",
        "id": "J3ri0v-6F6nv",
        "colab": {}
      },
      "source": [
        "from rasa_core.actions import Action\n",
        "from rasa_core.events import SlotSet\n",
        "\n",
        "import requests\n",
        "# from __future__ import absolute_import\n",
        "# from __future__ import division\n",
        "# from __future__ import unicode_literals\n",
        "\n",
        "class ApiAction(Action):\n",
        "    def name(self):\n",
        "        return \"action_retrieve_image\"\n",
        "\n",
        "    def run(self, dispatcher, tracker, domain):\n",
        "        dispatcher.utter_message(\"looking for a good img\")\n",
        "        url = \"https://picsum.photos/200/300/?random\"\n",
        "        return [SlotSet(\"img_api_response\", url)]\n",
        "    \n",
        "class ActionWeather(Action):\n",
        "    def name(self):\n",
        "        return 'action_weather'\n",
        "\n",
        "    def run(self, dispatcher, tracker, domain):\n",
        "        from apixu.client import ApixuClient\n",
        "        api_key = '...' #your apixu key\n",
        "        client = ApixuClient(api_key)\n",
        "        \n",
        "        loc = tracker.get_slot('location')\n",
        "        current = client.getCurrentWeather(q=loc)\n",
        "        \n",
        "        country = current['location']['country']\n",
        "        city = current['location']['name']\n",
        "        condition = current['current']['condition']['text']\n",
        "        temperature_c = current['current']['temp_c']\n",
        "        humidity = current['current']['humidity']\n",
        "        wind_mph = current['current']['wind_mph']\n",
        "\n",
        "        response = \"\"\"It is currently {} in {} at the moment. The temperature is {} degrees, the humidity is {}% and the wind speed is {} mph.\"\"\".format(condition, city, temperature_c, humidity, wind_mph)\n",
        "        dispatcher.utter_message(response)\n",
        "        return [SlotSet('location',loc)]\n"
      ],
      "execution_count": 0,
      "outputs": []
    },
    {
      "cell_type": "markdown",
      "metadata": {
        "colab_type": "text",
        "id": "d-EhG6WaF6n3"
      },
      "source": [
        "### Visualizing The Dialogue"
      ]
    },
    {
      "cell_type": "code",
      "metadata": {
        "colab_type": "code",
        "id": "E_HSk8WJF6n6",
        "outputId": "31861785-750a-46ef-ee5a-7c2eeb75a3dc",
        "colab": {
          "base_uri": "https://localhost:8080/",
          "height": 1031
        }
      },
      "source": [
        "from rasa_core.agent import Agent\n",
        "from IPython.display import Image\n",
        "\n",
        "agent = Agent.load('models/dialogue')\n",
        "agent.visualize(\"stories.md\", \"story_graph.png\", max_history=2)\n",
        "Image(filename=\"story_graph.png\")"
      ],
      "execution_count": 0,
      "outputs": [
        {
          "output_type": "stream",
          "text": [
            "/usr/local/lib/python3.6/dist-packages/pykwalify/core.py:99: UnsafeLoaderWarning: \n",
            "The default 'Loader' for 'load(stream)' without further arguments can be unsafe.\n",
            "Use 'load(stream, Loader=ruamel.yaml.Loader)' explicitly if that is OK.\n",
            "Alternatively include the following in your code:\n",
            "\n",
            "  import warnings\n",
            "  warnings.simplefilter('ignore', ruamel.yaml.error.UnsafeLoaderWarning)\n",
            "\n",
            "In most other cases you should consider using 'safe_load(stream)'\n",
            "  data = yaml.load(stream)\n",
            "Processed Story Blocks: 100%|██████████| 5/5 [00:00<00:00, 175.29it/s, # trackers=1]\n"
          ],
          "name": "stderr"
        },
        {
          "output_type": "execute_result",
          "data": {
            "image/png": "[encoded data removed]",
            "text/plain": [
              "<IPython.core.display.Image object>"
            ]
          },
          "metadata": {
            "tags": []
          },
          "execution_count": 22
        }
      ]
    },
    {
      "cell_type": "code",
      "metadata": {
        "colab_type": "code",
        "id": "ucZueYRxYqh_",
        "colab": {}
      },
      "source": [
        ""
      ],
      "execution_count": 0,
      "outputs": []
    },
    {
      "cell_type": "code",
      "metadata": {
        "id": "GdGqDLyD1evG",
        "colab_type": "code",
        "colab": {}
      },
      "source": [
        "### Jesse JCharis\n",
        "# J-Security\n",
        "# Jesus Saves @JCharisTech"
      ],
      "execution_count": 0,
      "outputs": []
    }
  ]
}